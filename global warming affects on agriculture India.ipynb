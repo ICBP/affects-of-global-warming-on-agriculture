{
 "cells": [
  {
   "cell_type": "markdown",
   "metadata": {},
   "source": [
    "# Global Warming affects on Agriculture - India\n",
    "\n",
    "Global Warming and Agriculture are the two of the many things which always excites me, and I'm always curious about it. So why not collab both under the same roof.\n",
    "\n",
    "Global Warming can be the next biggest global crisis after the current COVID-19 pendamic. It has been affecting the agriculture around the world and will more in future. So in this data analysis we'll analyze - how does the global warming affects the agriculture.\n",
    "\n",
    "## Contents\n",
    "\n",
    "- How to run the code\n",
    "- Data Preparation and Cleaning\n",
    "- Exploratory Analysis and Visualization\n",
    "- Asking and Answering Questions\n",
    "- Inferences and Conclusion\n",
    "- References and Futher readings"
   ]
  },
  {
   "cell_type": "markdown",
   "metadata": {},
   "source": [
    "## How to run the code\n",
    "\n",
    "This is an executable [Jupyter notebook](https://jupyter.org) hosted on [Jovian.ml](https://jovian.ml), a platform for sharing data science projects. You can run and experiment with the code in a couple of ways: using free online resources (recommended) or on your own computer.\n",
    "\n",
    "\n",
    "### Option 1: Running using free online resources (1-click, recommended)\n",
    "\n",
    "The easiest way to start executing this notebook is to click the \"Run\" button at the top of this page, and select \"Run on Binder\". This will run the notebook on [mybinder.org](https://mybinder.org), a free online service for running Jupyter notebooks. You can also select \"Run on Colab\" or \"Run on Kaggle\", but you'll need to create an account on [Google Colab](https://colab.research.google.com) or [Kaggle](https://kaggle.com) to use these platforms.\n",
    "\n",
    "### Option 2: Running on your computer locally\n",
    "\n",
    "1. Install Conda by following these instructions. Add Conda binaries to your system `PATH`, so you can use the `conda` command on your terminal.\n",
    "\n",
    "\n",
    "2. Create a Conda environment and install the required libraries by running these commands on the terminal:\n",
    "\n",
    "```\n",
    "conda create -n zerotopandas -y python=3.8 \n",
    "conda activate zerotopandas\n",
    "pip install jovian jupyter numpy pandas matplotlib seaborn opendatasets --upgrade\n",
    "\n",
    "```\n",
    "\n",
    "3. Press the \"Clone\" button above to copy the command for downloading the notebook, and run it on the terminal. This will create a new directory and download the notebook. The command will look something like this:\n",
    "\n",
    "```\n",
    "jovian clone notebook-owner/notebook-id\n",
    "\n",
    "```\n",
    "\n",
    "4. Enter the newly created directory using `cd directory-name` and start the Jupyter notebook.\n",
    "\n",
    "```\n",
    "jupyter notebook\n",
    "\n",
    "```\n",
    "\n",
    "You can now access Jupyter's web interface by clicking the link that shows up on the terminal or by visiting http://localhost:8888 on your browser. Click on the notebook file (it has a `.ipynb` extension) to open it."
   ]
  },
  {
   "cell_type": "markdown",
   "metadata": {},
   "source": [
    "## Data Preparation and Cleaning \n",
    "\n",
    "Lets now, talk a little about data prepartions and cleaning. For this analysis I've used various datasets from  kaggle. The main focus of the dataset is to analyze and visualize the impact on agriculture of global warming.\n",
    "\n",
    "I've used to different datasets - one for global temperatures and other for the indian crop production datasets. After preparing the datasets at the end this topic I got made data frames `india_temp_df` and `india_crop_production_df` and saved it as and `.csv` file.\n",
    "\n",
    "#### Activities Performed\n",
    "\n",
    "- Load the dataset into a data frame using Pandas\n",
    "- Explore the number of rows & columns, ranges of values etc.\n",
    "- Handle missing, incorrect and invalid data\n",
    "- Perform any additional steps (parsing dates, creating additional columns, merging multiple dataset etc.)"
   ]
  },
  {
   "cell_type": "code",
   "execution_count": 1,
   "metadata": {},
   "outputs": [
    {
     "data": {
      "text/plain": [
       "['india-temp.csv',\n",
       " 'india-crop-production.csv',\n",
       " '.ipynb_checkpoints',\n",
       " 'cropProduction',\n",
       " '.jovianrc',\n",
       " 'cropProduction.zip',\n",
       " 'global-temperatures.csv',\n",
       " 'GlobalLandTemperaturesByState.csv',\n",
       " 'GlobalLandTemperaturesByState.csv.zip',\n",
       " 'global warming affects on agriculture India.ipynb']"
      ]
     },
     "execution_count": 1,
     "metadata": {},
     "output_type": "execute_result"
    }
   ],
   "source": [
    "import os\n",
    "os.listdir()"
   ]
  },
  {
   "cell_type": "code",
   "execution_count": 2,
   "metadata": {},
   "outputs": [],
   "source": [
    "import pandas as pd"
   ]
  },
  {
   "cell_type": "code",
   "execution_count": 3,
   "metadata": {},
   "outputs": [
    {
     "data": {
      "text/html": [
       "<div>\n",
       "<style scoped>\n",
       "    .dataframe tbody tr th:only-of-type {\n",
       "        vertical-align: middle;\n",
       "    }\n",
       "\n",
       "    .dataframe tbody tr th {\n",
       "        vertical-align: top;\n",
       "    }\n",
       "\n",
       "    .dataframe thead th {\n",
       "        text-align: right;\n",
       "    }\n",
       "</style>\n",
       "<table border=\"1\" class=\"dataframe\">\n",
       "  <thead>\n",
       "    <tr style=\"text-align: right;\">\n",
       "      <th></th>\n",
       "      <th>dt</th>\n",
       "      <th>AverageTemperature</th>\n",
       "      <th>AverageTemperatureUncertainty</th>\n",
       "      <th>State</th>\n",
       "      <th>Country</th>\n",
       "    </tr>\n",
       "  </thead>\n",
       "  <tbody>\n",
       "    <tr>\n",
       "      <th>484983</th>\n",
       "      <td>1922-02-01</td>\n",
       "      <td>-39.834</td>\n",
       "      <td>1.531</td>\n",
       "      <td>Sakha</td>\n",
       "      <td>Russia</td>\n",
       "    </tr>\n",
       "    <tr>\n",
       "      <th>444741</th>\n",
       "      <td>1992-02-01</td>\n",
       "      <td>25.617</td>\n",
       "      <td>0.752</td>\n",
       "      <td>Pernambuco</td>\n",
       "      <td>Brazil</td>\n",
       "    </tr>\n",
       "    <tr>\n",
       "      <th>67554</th>\n",
       "      <td>1914-12-01</td>\n",
       "      <td>-3.029</td>\n",
       "      <td>0.335</td>\n",
       "      <td>Bryansk</td>\n",
       "      <td>Russia</td>\n",
       "    </tr>\n",
       "    <tr>\n",
       "      <th>162907</th>\n",
       "      <td>1938-02-01</td>\n",
       "      <td>-1.449</td>\n",
       "      <td>1.495</td>\n",
       "      <td>Himachal Pradesh</td>\n",
       "      <td>India</td>\n",
       "    </tr>\n",
       "    <tr>\n",
       "      <th>288604</th>\n",
       "      <td>1886-03-01</td>\n",
       "      <td>-5.188</td>\n",
       "      <td>0.500</td>\n",
       "      <td>Maine</td>\n",
       "      <td>United States</td>\n",
       "    </tr>\n",
       "  </tbody>\n",
       "</table>\n",
       "</div>"
      ],
      "text/plain": [
       "                dt  AverageTemperature  AverageTemperatureUncertainty  \\\n",
       "484983  1922-02-01             -39.834                          1.531   \n",
       "444741  1992-02-01              25.617                          0.752   \n",
       "67554   1914-12-01              -3.029                          0.335   \n",
       "162907  1938-02-01              -1.449                          1.495   \n",
       "288604  1886-03-01              -5.188                          0.500   \n",
       "\n",
       "                   State        Country  \n",
       "484983             Sakha         Russia  \n",
       "444741        Pernambuco         Brazil  \n",
       "67554            Bryansk         Russia  \n",
       "162907  Himachal Pradesh          India  \n",
       "288604             Maine  United States  "
      ]
     },
     "execution_count": 3,
     "metadata": {},
     "output_type": "execute_result"
    }
   ],
   "source": [
    "global_temp_by_state_raw_df = pd.read_csv('GlobalLandTemperaturesByState.csv')\n",
    "global_temp_by_state_raw_df.sample(5)"
   ]
  },
  {
   "cell_type": "code",
   "execution_count": 4,
   "metadata": {},
   "outputs": [
    {
     "data": {
      "text/plain": [
       "['dt',\n",
       " 'AverageTemperature',\n",
       " 'AverageTemperatureUncertainty',\n",
       " 'State',\n",
       " 'Country']"
      ]
     },
     "execution_count": 4,
     "metadata": {},
     "output_type": "execute_result"
    }
   ],
   "source": [
    "global_temp_by_state_raw_df.columns.tolist()"
   ]
  },
  {
   "cell_type": "code",
   "execution_count": 5,
   "metadata": {},
   "outputs": [],
   "source": [
    "india_temp_raw_df = global_temp_by_state_raw_df[global_temp_by_state_raw_df.Country == 'India' ].copy()"
   ]
  },
  {
   "cell_type": "code",
   "execution_count": 6,
   "metadata": {},
   "outputs": [
    {
     "data": {
      "text/html": [
       "<div>\n",
       "<style scoped>\n",
       "    .dataframe tbody tr th:only-of-type {\n",
       "        vertical-align: middle;\n",
       "    }\n",
       "\n",
       "    .dataframe tbody tr th {\n",
       "        vertical-align: top;\n",
       "    }\n",
       "\n",
       "    .dataframe thead th {\n",
       "        text-align: right;\n",
       "    }\n",
       "</style>\n",
       "<table border=\"1\" class=\"dataframe\">\n",
       "  <thead>\n",
       "    <tr style=\"text-align: right;\">\n",
       "      <th></th>\n",
       "      <th>dt</th>\n",
       "      <th>AverageTemperature</th>\n",
       "      <th>AverageTemperatureUncertainty</th>\n",
       "      <th>State</th>\n",
       "      <th>Country</th>\n",
       "    </tr>\n",
       "  </thead>\n",
       "  <tbody>\n",
       "    <tr>\n",
       "      <th>514731</th>\n",
       "      <td>1919-02-01</td>\n",
       "      <td>-4.483</td>\n",
       "      <td>0.841</td>\n",
       "      <td>Sikkim</td>\n",
       "      <td>India</td>\n",
       "    </tr>\n",
       "    <tr>\n",
       "      <th>162365</th>\n",
       "      <td>1892-12-01</td>\n",
       "      <td>0.320</td>\n",
       "      <td>1.060</td>\n",
       "      <td>Himachal Pradesh</td>\n",
       "      <td>India</td>\n",
       "    </tr>\n",
       "    <tr>\n",
       "      <th>464655</th>\n",
       "      <td>1938-04-01</td>\n",
       "      <td>30.281</td>\n",
       "      <td>0.314</td>\n",
       "      <td>Rajasthan</td>\n",
       "      <td>India</td>\n",
       "    </tr>\n",
       "    <tr>\n",
       "      <th>588210</th>\n",
       "      <td>1963-07-01</td>\n",
       "      <td>21.398</td>\n",
       "      <td>0.328</td>\n",
       "      <td>Uttaranchal</td>\n",
       "      <td>India</td>\n",
       "    </tr>\n",
       "    <tr>\n",
       "      <th>29223</th>\n",
       "      <td>1954-06-01</td>\n",
       "      <td>30.765</td>\n",
       "      <td>0.364</td>\n",
       "      <td>Andhra Pradesh</td>\n",
       "      <td>India</td>\n",
       "    </tr>\n",
       "  </tbody>\n",
       "</table>\n",
       "</div>"
      ],
      "text/plain": [
       "                dt  AverageTemperature  AverageTemperatureUncertainty  \\\n",
       "514731  1919-02-01              -4.483                          0.841   \n",
       "162365  1892-12-01               0.320                          1.060   \n",
       "464655  1938-04-01              30.281                          0.314   \n",
       "588210  1963-07-01              21.398                          0.328   \n",
       "29223   1954-06-01              30.765                          0.364   \n",
       "\n",
       "                   State Country  \n",
       "514731            Sikkim   India  \n",
       "162365  Himachal Pradesh   India  \n",
       "464655         Rajasthan   India  \n",
       "588210       Uttaranchal   India  \n",
       "29223     Andhra Pradesh   India  "
      ]
     },
     "execution_count": 6,
     "metadata": {},
     "output_type": "execute_result"
    }
   ],
   "source": [
    "india_temp_raw_df.sample(5)"
   ]
  },
  {
   "cell_type": "code",
   "execution_count": 7,
   "metadata": {},
   "outputs": [
    {
     "data": {
      "text/html": [
       "<div>\n",
       "<style scoped>\n",
       "    .dataframe tbody tr th:only-of-type {\n",
       "        vertical-align: middle;\n",
       "    }\n",
       "\n",
       "    .dataframe tbody tr th {\n",
       "        vertical-align: top;\n",
       "    }\n",
       "\n",
       "    .dataframe thead th {\n",
       "        text-align: right;\n",
       "    }\n",
       "</style>\n",
       "<table border=\"1\" class=\"dataframe\">\n",
       "  <thead>\n",
       "    <tr style=\"text-align: right;\">\n",
       "      <th></th>\n",
       "      <th>dt</th>\n",
       "      <th>AverageTemperature</th>\n",
       "      <th>State</th>\n",
       "    </tr>\n",
       "  </thead>\n",
       "  <tbody>\n",
       "    <tr>\n",
       "      <th>152611</th>\n",
       "      <td>1968-04-01</td>\n",
       "      <td>27.314</td>\n",
       "      <td>Haryana</td>\n",
       "    </tr>\n",
       "    <tr>\n",
       "      <th>310677</th>\n",
       "      <td>1891-12-01</td>\n",
       "      <td>18.070</td>\n",
       "      <td>Meghalaya</td>\n",
       "    </tr>\n",
       "    <tr>\n",
       "      <th>346111</th>\n",
       "      <td>1857-08-01</td>\n",
       "      <td>25.090</td>\n",
       "      <td>Nagaland</td>\n",
       "    </tr>\n",
       "    <tr>\n",
       "      <th>311915</th>\n",
       "      <td>1995-02-01</td>\n",
       "      <td>18.814</td>\n",
       "      <td>Meghalaya</td>\n",
       "    </tr>\n",
       "    <tr>\n",
       "      <th>231787</th>\n",
       "      <td>1836-10-01</td>\n",
       "      <td>25.453</td>\n",
       "      <td>Kerala</td>\n",
       "    </tr>\n",
       "    <tr>\n",
       "      <th>612564</th>\n",
       "      <td>1797-04-01</td>\n",
       "      <td>27.003</td>\n",
       "      <td>West Bengal</td>\n",
       "    </tr>\n",
       "    <tr>\n",
       "      <th>464913</th>\n",
       "      <td>1959-10-01</td>\n",
       "      <td>27.628</td>\n",
       "      <td>Rajasthan</td>\n",
       "    </tr>\n",
       "  </tbody>\n",
       "</table>\n",
       "</div>"
      ],
      "text/plain": [
       "                dt  AverageTemperature        State\n",
       "152611  1968-04-01              27.314      Haryana\n",
       "310677  1891-12-01              18.070    Meghalaya\n",
       "346111  1857-08-01              25.090     Nagaland\n",
       "311915  1995-02-01              18.814    Meghalaya\n",
       "231787  1836-10-01              25.453       Kerala\n",
       "612564  1797-04-01              27.003  West Bengal\n",
       "464913  1959-10-01              27.628    Rajasthan"
      ]
     },
     "execution_count": 7,
     "metadata": {},
     "output_type": "execute_result"
    }
   ],
   "source": [
    "selected_cols = ['dt',\n",
    " 'AverageTemperature','State']\n",
    "\n",
    "india_temp_df = india_temp_raw_df[selected_cols].copy()\n",
    "\n",
    "india_temp_df.sample(7)"
   ]
  },
  {
   "cell_type": "code",
   "execution_count": 8,
   "metadata": {},
   "outputs": [
    {
     "data": {
      "text/plain": [
       "(86664, 3)"
      ]
     },
     "execution_count": 8,
     "metadata": {},
     "output_type": "execute_result"
    }
   ],
   "source": [
    "india_temp_df.shape"
   ]
  },
  {
   "cell_type": "markdown",
   "metadata": {},
   "source": [
    "### Working with Dates\n",
    "\n",
    "Now, if you check the date series(column) `dt` data type is shows object. Now the reason for this is pandas assign the `object` datatype to the unidentified one's. so for better analysis we should convert it's datatype to `datetime` dtype.\n",
    "\n",
    "To do that, we can use the pandas `pd.to_datetime` method."
   ]
  },
  {
   "cell_type": "code",
   "execution_count": 9,
   "metadata": {},
   "outputs": [
    {
     "name": "stdout",
     "output_type": "stream",
     "text": [
      "<class 'pandas.core.frame.DataFrame'>\n",
      "Int64Index: 86664 entries, 24709 to 615161\n",
      "Data columns (total 3 columns):\n",
      "dt                    86664 non-null object\n",
      "AverageTemperature    81620 non-null float64\n",
      "State                 86664 non-null object\n",
      "dtypes: float64(1), object(2)\n",
      "memory usage: 2.6+ MB\n"
     ]
    }
   ],
   "source": [
    "india_temp_df.info()"
   ]
  },
  {
   "cell_type": "code",
   "execution_count": 10,
   "metadata": {},
   "outputs": [],
   "source": [
    "#converting the date dtype to date time\n",
    "india_temp_df['dt'] = pd.to_datetime(india_temp_df['dt'])"
   ]
  },
  {
   "cell_type": "code",
   "execution_count": 11,
   "metadata": {},
   "outputs": [
    {
     "name": "stdout",
     "output_type": "stream",
     "text": [
      "<class 'pandas.core.frame.DataFrame'>\n",
      "Int64Index: 86664 entries, 24709 to 615161\n",
      "Data columns (total 3 columns):\n",
      "dt                    86664 non-null datetime64[ns]\n",
      "AverageTemperature    81620 non-null float64\n",
      "State                 86664 non-null object\n",
      "dtypes: datetime64[ns](1), float64(1), object(1)\n",
      "memory usage: 2.6+ MB\n"
     ]
    }
   ],
   "source": [
    "india_temp_df.info()"
   ]
  },
  {
   "cell_type": "markdown",
   "metadata": {},
   "source": [
    "We'll it seems like everythig worked well. So let's save this dataframe as a `.csv` file."
   ]
  },
  {
   "cell_type": "code",
   "execution_count": 12,
   "metadata": {},
   "outputs": [],
   "source": [
    "# saving the data frame\n",
    "\n",
    "india_temp_df.to_csv('india-temp.csv')"
   ]
  },
  {
   "cell_type": "code",
   "execution_count": 13,
   "metadata": {},
   "outputs": [
    {
     "data": {
      "text/plain": [
       "['india-temp.csv',\n",
       " 'india-crop-production.csv',\n",
       " '.ipynb_checkpoints',\n",
       " 'cropProduction',\n",
       " '.jovianrc',\n",
       " 'cropProduction.zip',\n",
       " 'global-temperatures.csv',\n",
       " 'GlobalLandTemperaturesByState.csv',\n",
       " 'GlobalLandTemperaturesByState.csv.zip',\n",
       " 'global warming affects on agriculture India.ipynb']"
      ]
     },
     "execution_count": 13,
     "metadata": {},
     "output_type": "execute_result"
    }
   ],
   "source": [
    "os.listdir()"
   ]
  },
  {
   "cell_type": "code",
   "execution_count": 14,
   "metadata": {},
   "outputs": [
    {
     "data": {
      "text/plain": [
       "['datafile (2).csv',\n",
       " 'datafile (3).csv',\n",
       " 'datafile.csv',\n",
       " 'datafile (1).csv',\n",
       " 'produce.csv']"
      ]
     },
     "execution_count": 14,
     "metadata": {},
     "output_type": "execute_result"
    }
   ],
   "source": [
    "os.listdir('cropProduction')"
   ]
  },
  {
   "cell_type": "code",
   "execution_count": 15,
   "metadata": {},
   "outputs": [
    {
     "data": {
      "text/html": [
       "<div>\n",
       "<style scoped>\n",
       "    .dataframe tbody tr th:only-of-type {\n",
       "        vertical-align: middle;\n",
       "    }\n",
       "\n",
       "    .dataframe tbody tr th {\n",
       "        vertical-align: top;\n",
       "    }\n",
       "\n",
       "    .dataframe thead th {\n",
       "        text-align: right;\n",
       "    }\n",
       "</style>\n",
       "<table border=\"1\" class=\"dataframe\">\n",
       "  <thead>\n",
       "    <tr style=\"text-align: right;\">\n",
       "      <th></th>\n",
       "      <th>Crop</th>\n",
       "      <th>2004-05</th>\n",
       "      <th>2005-06</th>\n",
       "      <th>2006-07</th>\n",
       "      <th>2007-08</th>\n",
       "      <th>2008-09</th>\n",
       "      <th>2009-10</th>\n",
       "      <th>2010-11</th>\n",
       "      <th>2011-12</th>\n",
       "    </tr>\n",
       "  </thead>\n",
       "  <tbody>\n",
       "    <tr>\n",
       "      <th>0</th>\n",
       "      <td>Rice</td>\n",
       "      <td>100.0</td>\n",
       "      <td>101.0</td>\n",
       "      <td>99.0</td>\n",
       "      <td>105.0</td>\n",
       "      <td>112.0</td>\n",
       "      <td>121.0</td>\n",
       "      <td>117.0</td>\n",
       "      <td>110.0</td>\n",
       "    </tr>\n",
       "    <tr>\n",
       "      <th>4</th>\n",
       "      <td>Vegetables</td>\n",
       "      <td>100.0</td>\n",
       "      <td>109.0</td>\n",
       "      <td>103.0</td>\n",
       "      <td>118.0</td>\n",
       "      <td>113.0</td>\n",
       "      <td>124.0</td>\n",
       "      <td>128.0</td>\n",
       "      <td>115.0</td>\n",
       "    </tr>\n",
       "    <tr>\n",
       "      <th>12</th>\n",
       "      <td>NaN</td>\n",
       "      <td>NaN</td>\n",
       "      <td>NaN</td>\n",
       "      <td>NaN</td>\n",
       "      <td>NaN</td>\n",
       "      <td>NaN</td>\n",
       "      <td>NaN</td>\n",
       "      <td>NaN</td>\n",
       "      <td>NaN</td>\n",
       "    </tr>\n",
       "    <tr>\n",
       "      <th>8</th>\n",
       "      <td>Oilseeds</td>\n",
       "      <td>100.0</td>\n",
       "      <td>86.0</td>\n",
       "      <td>85.0</td>\n",
       "      <td>97.0</td>\n",
       "      <td>104.0</td>\n",
       "      <td>103.0</td>\n",
       "      <td>99.0</td>\n",
       "      <td>102.0</td>\n",
       "    </tr>\n",
       "    <tr>\n",
       "      <th>10</th>\n",
       "      <td>Fibers</td>\n",
       "      <td>100.0</td>\n",
       "      <td>92.0</td>\n",
       "      <td>91.0</td>\n",
       "      <td>96.0</td>\n",
       "      <td>109.0</td>\n",
       "      <td>107.0</td>\n",
       "      <td>138.0</td>\n",
       "      <td>140.0</td>\n",
       "    </tr>\n",
       "  </tbody>\n",
       "</table>\n",
       "</div>"
      ],
      "text/plain": [
       "           Crop  2004-05  2005-06  2006-07  2007-08  2008-09  2009-10  \\\n",
       "0          Rice    100.0    101.0     99.0    105.0    112.0    121.0   \n",
       "4   Vegetables     100.0    109.0    103.0    118.0    113.0    124.0   \n",
       "12          NaN      NaN      NaN      NaN      NaN      NaN      NaN   \n",
       "8      Oilseeds    100.0     86.0     85.0     97.0    104.0    103.0   \n",
       "10       Fibers    100.0     92.0     91.0     96.0    109.0    107.0   \n",
       "\n",
       "    2010-11  2011-12  \n",
       "0     117.0    110.0  \n",
       "4     128.0    115.0  \n",
       "12      NaN      NaN  \n",
       "8      99.0    102.0  \n",
       "10    138.0    140.0  "
      ]
     },
     "execution_count": 15,
     "metadata": {},
     "output_type": "execute_result"
    }
   ],
   "source": [
    "raw_df_1 = pd.read_csv('cropProduction/datafile.csv')\n",
    "raw_df_1.sample(5)"
   ]
  },
  {
   "cell_type": "code",
   "execution_count": 16,
   "metadata": {},
   "outputs": [
    {
     "data": {
      "text/html": [
       "<div>\n",
       "<style scoped>\n",
       "    .dataframe tbody tr th:only-of-type {\n",
       "        vertical-align: middle;\n",
       "    }\n",
       "\n",
       "    .dataframe tbody tr th {\n",
       "        vertical-align: top;\n",
       "    }\n",
       "\n",
       "    .dataframe thead th {\n",
       "        text-align: right;\n",
       "    }\n",
       "</style>\n",
       "<table border=\"1\" class=\"dataframe\">\n",
       "  <thead>\n",
       "    <tr style=\"text-align: right;\">\n",
       "      <th></th>\n",
       "      <th>Crop</th>\n",
       "      <th>Production 2006-07</th>\n",
       "      <th>Production 2007-08</th>\n",
       "      <th>Production 2008-09</th>\n",
       "      <th>Production 2009-10</th>\n",
       "      <th>Production 2010-11</th>\n",
       "      <th>Area 2006-07</th>\n",
       "      <th>Area 2007-08</th>\n",
       "      <th>Area 2008-09</th>\n",
       "      <th>Area 2009-10</th>\n",
       "      <th>Area 2010-11</th>\n",
       "      <th>Yield 2006-07</th>\n",
       "      <th>Yield 2007-08</th>\n",
       "      <th>Yield 2008-09</th>\n",
       "      <th>Yield 2009-10</th>\n",
       "      <th>Yield 2010-11</th>\n",
       "    </tr>\n",
       "  </thead>\n",
       "  <tbody>\n",
       "    <tr>\n",
       "      <th>46</th>\n",
       "      <td>Garlic</td>\n",
       "      <td>226.2</td>\n",
       "      <td>311.3</td>\n",
       "      <td>242.1</td>\n",
       "      <td>243.0</td>\n",
       "      <td>308.2</td>\n",
       "      <td>187.6</td>\n",
       "      <td>241.6</td>\n",
       "      <td>195.8</td>\n",
       "      <td>194.4</td>\n",
       "      <td>236.8</td>\n",
       "      <td>120.6</td>\n",
       "      <td>128.8</td>\n",
       "      <td>123.6</td>\n",
       "      <td>125.0</td>\n",
       "      <td>130.1</td>\n",
       "    </tr>\n",
       "    <tr>\n",
       "      <th>52</th>\n",
       "      <td>Banana</td>\n",
       "      <td>189.3</td>\n",
       "      <td>201.1</td>\n",
       "      <td>298.8</td>\n",
       "      <td>301.7</td>\n",
       "      <td>339.4</td>\n",
       "      <td>117.6</td>\n",
       "      <td>131.2</td>\n",
       "      <td>174.8</td>\n",
       "      <td>189.8</td>\n",
       "      <td>204.6</td>\n",
       "      <td>161.0</td>\n",
       "      <td>153.3</td>\n",
       "      <td>171.0</td>\n",
       "      <td>159.0</td>\n",
       "      <td>165.9</td>\n",
       "    </tr>\n",
       "    <tr>\n",
       "      <th>11</th>\n",
       "      <td>Gram</td>\n",
       "      <td>140.6</td>\n",
       "      <td>127.6</td>\n",
       "      <td>156.5</td>\n",
       "      <td>165.9</td>\n",
       "      <td>182.5</td>\n",
       "      <td>122.3</td>\n",
       "      <td>123.1</td>\n",
       "      <td>128.8</td>\n",
       "      <td>133.3</td>\n",
       "      <td>149.9</td>\n",
       "      <td>115.0</td>\n",
       "      <td>103.7</td>\n",
       "      <td>121.7</td>\n",
       "      <td>124.5</td>\n",
       "      <td>121.7</td>\n",
       "    </tr>\n",
       "    <tr>\n",
       "      <th>38</th>\n",
       "      <td>Total Spices</td>\n",
       "      <td>1427.7</td>\n",
       "      <td>1571.5</td>\n",
       "      <td>1463.0</td>\n",
       "      <td>1430.3</td>\n",
       "      <td>1790.6</td>\n",
       "      <td>121.3</td>\n",
       "      <td>125.9</td>\n",
       "      <td>126.5</td>\n",
       "      <td>122.0</td>\n",
       "      <td>136.6</td>\n",
       "      <td>1176.6</td>\n",
       "      <td>1247.7</td>\n",
       "      <td>1156.8</td>\n",
       "      <td>1172.1</td>\n",
       "      <td>1310.8</td>\n",
       "    </tr>\n",
       "    <tr>\n",
       "      <th>39</th>\n",
       "      <td>Black pepper</td>\n",
       "      <td>134.2</td>\n",
       "      <td>91.5</td>\n",
       "      <td>92.2</td>\n",
       "      <td>99.2</td>\n",
       "      <td>101.1</td>\n",
       "      <td>130.8</td>\n",
       "      <td>104.7</td>\n",
       "      <td>126.9</td>\n",
       "      <td>104.2</td>\n",
       "      <td>97.8</td>\n",
       "      <td>102.6</td>\n",
       "      <td>87.4</td>\n",
       "      <td>72.7</td>\n",
       "      <td>95.2</td>\n",
       "      <td>103.4</td>\n",
       "    </tr>\n",
       "  </tbody>\n",
       "</table>\n",
       "</div>"
      ],
      "text/plain": [
       "   Crop               Production 2006-07  Production 2007-08  \\\n",
       "46          Garlic                 226.2               311.3   \n",
       "52          Banana                 189.3               201.1   \n",
       "11              Gram               140.6               127.6   \n",
       "38      Total Spices              1427.7              1571.5   \n",
       "39      Black pepper               134.2                91.5   \n",
       "\n",
       "    Production 2008-09  Production 2009-10  Production 2010-11  Area 2006-07  \\\n",
       "46               242.1               243.0               308.2         187.6   \n",
       "52               298.8               301.7               339.4         117.6   \n",
       "11               156.5               165.9               182.5         122.3   \n",
       "38              1463.0              1430.3              1790.6         121.3   \n",
       "39                92.2                99.2               101.1         130.8   \n",
       "\n",
       "    Area 2007-08  Area 2008-09  Area 2009-10  Area 2010-11  Yield 2006-07  \\\n",
       "46         241.6         195.8         194.4         236.8          120.6   \n",
       "52         131.2         174.8         189.8         204.6          161.0   \n",
       "11         123.1         128.8         133.3         149.9          115.0   \n",
       "38         125.9         126.5         122.0         136.6         1176.6   \n",
       "39         104.7         126.9         104.2          97.8          102.6   \n",
       "\n",
       "    Yield 2007-08  Yield 2008-09  Yield 2009-10  Yield 2010-11  \n",
       "46          128.8          123.6          125.0          130.1  \n",
       "52          153.3          171.0          159.0          165.9  \n",
       "11          103.7          121.7          124.5          121.7  \n",
       "38         1247.7         1156.8         1172.1         1310.8  \n",
       "39           87.4           72.7           95.2          103.4  "
      ]
     },
     "execution_count": 16,
     "metadata": {},
     "output_type": "execute_result"
    }
   ],
   "source": [
    "raw_df_2 = pd.read_csv('cropProduction/datafile (2).csv')\n",
    "raw_df_2.sample(5)"
   ]
  },
  {
   "cell_type": "code",
   "execution_count": 17,
   "metadata": {},
   "outputs": [
    {
     "data": {
      "text/html": [
       "<div>\n",
       "<style scoped>\n",
       "    .dataframe tbody tr th:only-of-type {\n",
       "        vertical-align: middle;\n",
       "    }\n",
       "\n",
       "    .dataframe tbody tr th {\n",
       "        vertical-align: top;\n",
       "    }\n",
       "\n",
       "    .dataframe thead th {\n",
       "        text-align: right;\n",
       "    }\n",
       "</style>\n",
       "<table border=\"1\" class=\"dataframe\">\n",
       "  <thead>\n",
       "    <tr style=\"text-align: right;\">\n",
       "      <th></th>\n",
       "      <th>Crop</th>\n",
       "      <th>Variety</th>\n",
       "      <th>Season/ duration in days</th>\n",
       "      <th>Recommended Zone</th>\n",
       "      <th>Unnamed: 4</th>\n",
       "    </tr>\n",
       "  </thead>\n",
       "  <tbody>\n",
       "    <tr>\n",
       "      <th>15</th>\n",
       "      <td>Wheat</td>\n",
       "      <td>WHD 943</td>\n",
       "      <td>NaN</td>\n",
       "      <td>Punjab, Haryana, Delhi, Rajasthan (except Kota...</td>\n",
       "      <td>NaN</td>\n",
       "    </tr>\n",
       "    <tr>\n",
       "      <th>31</th>\n",
       "      <td>Pearl Millet</td>\n",
       "      <td>RHB 177 (MH 1486)</td>\n",
       "      <td>NaN</td>\n",
       "      <td>Rajasthan, Haryana and Gujarat under rainfed l...</td>\n",
       "      <td>NaN</td>\n",
       "    </tr>\n",
       "    <tr>\n",
       "      <th>33</th>\n",
       "      <td>Finger Millet</td>\n",
       "      <td>GPU 67</td>\n",
       "      <td>119</td>\n",
       "      <td>Chhattisgarh, Jharkhand, Karnataka, Maharashtr...</td>\n",
       "      <td>NaN</td>\n",
       "    </tr>\n",
       "    <tr>\n",
       "      <th>2</th>\n",
       "      <td>Paddy</td>\n",
       "      <td>IGKVR-1 (IET 19569)</td>\n",
       "      <td>Mid-early</td>\n",
       "      <td>Chhattisgarh, Madhya Pradesh and Orissa under ...</td>\n",
       "      <td>NaN</td>\n",
       "    </tr>\n",
       "    <tr>\n",
       "      <th>53</th>\n",
       "      <td>Fieldpea</td>\n",
       "      <td>Dantiwada Fieldpea 1 (SKNP 04-09)</td>\n",
       "      <td>NaN</td>\n",
       "      <td>Eastern Uttar Pradesh, Bihar, Jharkhand and We...</td>\n",
       "      <td>NaN</td>\n",
       "    </tr>\n",
       "  </tbody>\n",
       "</table>\n",
       "</div>"
      ],
      "text/plain": [
       "             Crop                            Variety Season/ duration in days  \\\n",
       "15          Wheat                            WHD 943                      NaN   \n",
       "31   Pearl Millet                  RHB 177 (MH 1486)                      NaN   \n",
       "33  Finger Millet                             GPU 67                      119   \n",
       "2           Paddy                IGKVR-1 (IET 19569)                Mid-early   \n",
       "53       Fieldpea  Dantiwada Fieldpea 1 (SKNP 04-09)                      NaN   \n",
       "\n",
       "                                     Recommended Zone  Unnamed: 4  \n",
       "15  Punjab, Haryana, Delhi, Rajasthan (except Kota...         NaN  \n",
       "31  Rajasthan, Haryana and Gujarat under rainfed l...         NaN  \n",
       "33  Chhattisgarh, Jharkhand, Karnataka, Maharashtr...         NaN  \n",
       "2   Chhattisgarh, Madhya Pradesh and Orissa under ...         NaN  \n",
       "53  Eastern Uttar Pradesh, Bihar, Jharkhand and We...         NaN  "
      ]
     },
     "execution_count": 17,
     "metadata": {},
     "output_type": "execute_result"
    }
   ],
   "source": [
    "raw_df_3 = pd.read_csv('cropProduction/datafile (3).csv')\n",
    "raw_df_3.sample(5)"
   ]
  },
  {
   "cell_type": "code",
   "execution_count": 18,
   "metadata": {},
   "outputs": [
    {
     "data": {
      "text/html": [
       "<div>\n",
       "<style scoped>\n",
       "    .dataframe tbody tr th:only-of-type {\n",
       "        vertical-align: middle;\n",
       "    }\n",
       "\n",
       "    .dataframe tbody tr th {\n",
       "        vertical-align: top;\n",
       "    }\n",
       "\n",
       "    .dataframe thead th {\n",
       "        text-align: right;\n",
       "    }\n",
       "</style>\n",
       "<table border=\"1\" class=\"dataframe\">\n",
       "  <thead>\n",
       "    <tr style=\"text-align: right;\">\n",
       "      <th></th>\n",
       "      <th>Crop</th>\n",
       "      <th>State</th>\n",
       "      <th>Cost of Cultivation (`/Hectare) A2+FL</th>\n",
       "      <th>Cost of Cultivation (`/Hectare) C2</th>\n",
       "      <th>Cost of Production (`/Quintal) C2</th>\n",
       "      <th>Yield (Quintal/ Hectare)</th>\n",
       "    </tr>\n",
       "  </thead>\n",
       "  <tbody>\n",
       "    <tr>\n",
       "      <th>21</th>\n",
       "      <td>MAIZE</td>\n",
       "      <td>Karnataka</td>\n",
       "      <td>13792.85</td>\n",
       "      <td>20671.54</td>\n",
       "      <td>581.69</td>\n",
       "      <td>31.10</td>\n",
       "    </tr>\n",
       "    <tr>\n",
       "      <th>32</th>\n",
       "      <td>PADDY</td>\n",
       "      <td>West Bengal</td>\n",
       "      <td>24731.06</td>\n",
       "      <td>33046.12</td>\n",
       "      <td>731.25</td>\n",
       "      <td>39.04</td>\n",
       "    </tr>\n",
       "    <tr>\n",
       "      <th>12</th>\n",
       "      <td>GRAM</td>\n",
       "      <td>Uttar Pradesh</td>\n",
       "      <td>12833.04</td>\n",
       "      <td>21618.43</td>\n",
       "      <td>1882.68</td>\n",
       "      <td>10.93</td>\n",
       "    </tr>\n",
       "    <tr>\n",
       "      <th>15</th>\n",
       "      <td>GROUNDNUT</td>\n",
       "      <td>Karnataka</td>\n",
       "      <td>13647.10</td>\n",
       "      <td>17314.20</td>\n",
       "      <td>3484.01</td>\n",
       "      <td>4.71</td>\n",
       "    </tr>\n",
       "    <tr>\n",
       "      <th>5</th>\n",
       "      <td>COTTON</td>\n",
       "      <td>Maharashtra</td>\n",
       "      <td>23711.44</td>\n",
       "      <td>33116.82</td>\n",
       "      <td>2539.47</td>\n",
       "      <td>12.69</td>\n",
       "    </tr>\n",
       "  </tbody>\n",
       "</table>\n",
       "</div>"
      ],
      "text/plain": [
       "         Crop          State  Cost of Cultivation (`/Hectare) A2+FL  \\\n",
       "21      MAIZE      Karnataka                               13792.85   \n",
       "32      PADDY    West Bengal                               24731.06   \n",
       "12       GRAM  Uttar Pradesh                               12833.04   \n",
       "15  GROUNDNUT      Karnataka                               13647.10   \n",
       "5      COTTON    Maharashtra                               23711.44   \n",
       "\n",
       "    Cost of Cultivation (`/Hectare) C2  Cost of Production (`/Quintal) C2  \\\n",
       "21                            20671.54                             581.69   \n",
       "32                            33046.12                             731.25   \n",
       "12                            21618.43                            1882.68   \n",
       "15                            17314.20                            3484.01   \n",
       "5                             33116.82                            2539.47   \n",
       "\n",
       "    Yield (Quintal/ Hectare)   \n",
       "21                      31.10  \n",
       "32                      39.04  \n",
       "12                      10.93  \n",
       "15                       4.71  \n",
       "5                       12.69  "
      ]
     },
     "execution_count": 18,
     "metadata": {},
     "output_type": "execute_result"
    }
   ],
   "source": [
    "raw_df_1 = pd.read_csv('cropProduction/datafile (1).csv')\n",
    "raw_df_1.sample(5)"
   ]
  },
  {
   "cell_type": "code",
   "execution_count": 19,
   "metadata": {},
   "outputs": [
    {
     "data": {
      "text/plain": [
       "['Crop',\n",
       " 'State',\n",
       " 'Cost of Cultivation (`/Hectare) A2+FL',\n",
       " 'Cost of Cultivation (`/Hectare) C2',\n",
       " 'Cost of Production (`/Quintal) C2',\n",
       " 'Yield (Quintal/ Hectare) ']"
      ]
     },
     "execution_count": 19,
     "metadata": {},
     "output_type": "execute_result"
    }
   ],
   "source": [
    "raw_df_1.columns.tolist()"
   ]
  },
  {
   "cell_type": "code",
   "execution_count": 20,
   "metadata": {},
   "outputs": [
    {
     "data": {
      "text/html": [
       "<div>\n",
       "<style scoped>\n",
       "    .dataframe tbody tr th:only-of-type {\n",
       "        vertical-align: middle;\n",
       "    }\n",
       "\n",
       "    .dataframe tbody tr th {\n",
       "        vertical-align: top;\n",
       "    }\n",
       "\n",
       "    .dataframe thead th {\n",
       "        text-align: right;\n",
       "    }\n",
       "</style>\n",
       "<table border=\"1\" class=\"dataframe\">\n",
       "  <thead>\n",
       "    <tr style=\"text-align: right;\">\n",
       "      <th></th>\n",
       "      <th>Crop</th>\n",
       "      <th>State</th>\n",
       "    </tr>\n",
       "  </thead>\n",
       "  <tbody>\n",
       "    <tr>\n",
       "      <th>13</th>\n",
       "      <td>GRAM</td>\n",
       "      <td>Maharashtra</td>\n",
       "    </tr>\n",
       "    <tr>\n",
       "      <th>17</th>\n",
       "      <td>GROUNDNUT</td>\n",
       "      <td>Tamil Nadu</td>\n",
       "    </tr>\n",
       "    <tr>\n",
       "      <th>27</th>\n",
       "      <td>MOONG</td>\n",
       "      <td>Karnataka</td>\n",
       "    </tr>\n",
       "    <tr>\n",
       "      <th>9</th>\n",
       "      <td>COTTON</td>\n",
       "      <td>Haryana</td>\n",
       "    </tr>\n",
       "    <tr>\n",
       "      <th>12</th>\n",
       "      <td>GRAM</td>\n",
       "      <td>Uttar Pradesh</td>\n",
       "    </tr>\n",
       "  </tbody>\n",
       "</table>\n",
       "</div>"
      ],
      "text/plain": [
       "         Crop          State\n",
       "13       GRAM    Maharashtra\n",
       "17  GROUNDNUT     Tamil Nadu\n",
       "27      MOONG      Karnataka\n",
       "9      COTTON        Haryana\n",
       "12       GRAM  Uttar Pradesh"
      ]
     },
     "execution_count": 20,
     "metadata": {},
     "output_type": "execute_result"
    }
   ],
   "source": [
    "# Selecting the required columns and making a new data frame 'crop_prod_sel_df'\n",
    "sel_cols = ['Crop',\n",
    " 'State']\n",
    "\n",
    "crop_prod_sel_df = raw_df_1[sel_cols].copy()\n",
    "\n",
    "crop_prod_sel_df.sample(5)"
   ]
  },
  {
   "cell_type": "code",
   "execution_count": 21,
   "metadata": {},
   "outputs": [
    {
     "data": {
      "text/plain": [
       "(49, 2)"
      ]
     },
     "execution_count": 21,
     "metadata": {},
     "output_type": "execute_result"
    }
   ],
   "source": [
    "crop_prod_sel_df.shape"
   ]
  },
  {
   "cell_type": "code",
   "execution_count": 22,
   "metadata": {},
   "outputs": [
    {
     "data": {
      "text/html": [
       "<div>\n",
       "<style scoped>\n",
       "    .dataframe tbody tr th:only-of-type {\n",
       "        vertical-align: middle;\n",
       "    }\n",
       "\n",
       "    .dataframe tbody tr th {\n",
       "        vertical-align: top;\n",
       "    }\n",
       "\n",
       "    .dataframe thead th {\n",
       "        text-align: right;\n",
       "    }\n",
       "</style>\n",
       "<table border=\"1\" class=\"dataframe\">\n",
       "  <thead>\n",
       "    <tr style=\"text-align: right;\">\n",
       "      <th></th>\n",
       "      <th>Particulars</th>\n",
       "      <th>Frequency</th>\n",
       "      <th>Unit</th>\n",
       "      <th>3-1993</th>\n",
       "      <th>3-1994</th>\n",
       "      <th>3-1995</th>\n",
       "      <th>3-1996</th>\n",
       "      <th>3-1997</th>\n",
       "      <th>3-1998</th>\n",
       "      <th>3-1999</th>\n",
       "      <th>...</th>\n",
       "      <th>3-2005</th>\n",
       "      <th>3-2006</th>\n",
       "      <th>3-2007</th>\n",
       "      <th>3-2008</th>\n",
       "      <th>3-2009</th>\n",
       "      <th>3-2010</th>\n",
       "      <th>3-2011</th>\n",
       "      <th>3-2012</th>\n",
       "      <th>3-2013</th>\n",
       "      <th>3-2014</th>\n",
       "    </tr>\n",
       "  </thead>\n",
       "  <tbody>\n",
       "    <tr>\n",
       "      <th>18</th>\n",
       "      <td>Agricultural Production Foodgrains Coarse Cere...</td>\n",
       "      <td>Annual, Ending mar Of Each Year</td>\n",
       "      <td>Ton mn</td>\n",
       "      <td>NaN</td>\n",
       "      <td>NaN</td>\n",
       "      <td>NaN</td>\n",
       "      <td>NaN</td>\n",
       "      <td>NaN</td>\n",
       "      <td>NaN</td>\n",
       "      <td>NaN</td>\n",
       "      <td>...</td>\n",
       "      <td>26.36212</td>\n",
       "      <td>26.7367</td>\n",
       "      <td>25.6100</td>\n",
       "      <td>31.8946</td>\n",
       "      <td>28.5442</td>\n",
       "      <td>23.833320</td>\n",
       "      <td>33.081849</td>\n",
       "      <td>32.436072</td>\n",
       "      <td>29.79</td>\n",
       "      <td>31.2432</td>\n",
       "    </tr>\n",
       "    <tr>\n",
       "      <th>133</th>\n",
       "      <td>Agriculture Production Foodgrains Production F...</td>\n",
       "      <td>Annual, Ending mar Of Each Year</td>\n",
       "      <td>Ton mn</td>\n",
       "      <td>NaN</td>\n",
       "      <td>NaN</td>\n",
       "      <td>NaN</td>\n",
       "      <td>NaN</td>\n",
       "      <td>NaN</td>\n",
       "      <td>NaN</td>\n",
       "      <td>NaN</td>\n",
       "      <td>...</td>\n",
       "      <td>2.40000</td>\n",
       "      <td>2.3800</td>\n",
       "      <td>2.3900</td>\n",
       "      <td>2.5700</td>\n",
       "      <td>2.5500</td>\n",
       "      <td>2.570000</td>\n",
       "      <td>2.600000</td>\n",
       "      <td>2.660000</td>\n",
       "      <td>NaN</td>\n",
       "      <td>NaN</td>\n",
       "    </tr>\n",
       "    <tr>\n",
       "      <th>46</th>\n",
       "      <td>Agricultural Production Commercial Crops Cotton</td>\n",
       "      <td>Annual, Ending mar Of Each Year</td>\n",
       "      <td>Bale mn</td>\n",
       "      <td>NaN</td>\n",
       "      <td>NaN</td>\n",
       "      <td>NaN</td>\n",
       "      <td>NaN</td>\n",
       "      <td>NaN</td>\n",
       "      <td>NaN</td>\n",
       "      <td>NaN</td>\n",
       "      <td>...</td>\n",
       "      <td>16.42860</td>\n",
       "      <td>18.4990</td>\n",
       "      <td>22.6318</td>\n",
       "      <td>25.8841</td>\n",
       "      <td>22.2762</td>\n",
       "      <td>24.021803</td>\n",
       "      <td>33.000000</td>\n",
       "      <td>35.200000</td>\n",
       "      <td>34.22</td>\n",
       "      <td>36.5000</td>\n",
       "    </tr>\n",
       "  </tbody>\n",
       "</table>\n",
       "<p>3 rows × 25 columns</p>\n",
       "</div>"
      ],
      "text/plain": [
       "                                           Particulars  \\\n",
       "18   Agricultural Production Foodgrains Coarse Cere...   \n",
       "133  Agriculture Production Foodgrains Production F...   \n",
       "46     Agricultural Production Commercial Crops Cotton   \n",
       "\n",
       "                           Frequency     Unit   3-1993   3-1994   3-1995  \\\n",
       "18   Annual, Ending mar Of Each Year   Ton mn      NaN      NaN      NaN   \n",
       "133  Annual, Ending mar Of Each Year   Ton mn      NaN      NaN      NaN   \n",
       "46   Annual, Ending mar Of Each Year  Bale mn      NaN      NaN      NaN   \n",
       "\n",
       "      3-1996   3-1997   3-1998   3-1999   ...       3-2005   3-2006   3-2007  \\\n",
       "18       NaN      NaN      NaN      NaN   ...     26.36212  26.7367  25.6100   \n",
       "133      NaN      NaN      NaN      NaN   ...      2.40000   2.3800   2.3900   \n",
       "46       NaN      NaN      NaN      NaN   ...     16.42860  18.4990  22.6318   \n",
       "\n",
       "      3-2008   3-2009     3-2010     3-2011     3-2012   3-2013   3-2014  \n",
       "18   31.8946  28.5442  23.833320  33.081849  32.436072    29.79  31.2432  \n",
       "133   2.5700   2.5500   2.570000   2.600000   2.660000      NaN      NaN  \n",
       "46   25.8841  22.2762  24.021803  33.000000  35.200000    34.22  36.5000  \n",
       "\n",
       "[3 rows x 25 columns]"
      ]
     },
     "execution_count": 22,
     "metadata": {},
     "output_type": "execute_result"
    }
   ],
   "source": [
    "raw_df_4 = pd.read_csv('cropProduction/produce.csv')\n",
    "raw_df_4.sample(3)"
   ]
  },
  {
   "cell_type": "code",
   "execution_count": 23,
   "metadata": {},
   "outputs": [
    {
     "data": {
      "text/plain": [
       "38    RAPESEED AND MUSTARD\n",
       "11                    GRAM\n",
       "33                   PADDY\n",
       "34                   PADDY\n",
       "6                   COTTON\n",
       "Name: Crop, dtype: object"
      ]
     },
     "execution_count": 23,
     "metadata": {},
     "output_type": "execute_result"
    }
   ],
   "source": [
    "crop_prod_sel_df.Crop.sample(5)"
   ]
  },
  {
   "cell_type": "code",
   "execution_count": 24,
   "metadata": {},
   "outputs": [],
   "source": [
    "# So, if look at the Crop names, it is in uppercase so turning then it into lower case\n",
    "crop_prod_sel_df['Crop'] = crop_prod_sel_df.Crop.str.capitalize()"
   ]
  },
  {
   "cell_type": "code",
   "execution_count": 25,
   "metadata": {},
   "outputs": [
    {
     "data": {
      "text/html": [
       "<div>\n",
       "<style scoped>\n",
       "    .dataframe tbody tr th:only-of-type {\n",
       "        vertical-align: middle;\n",
       "    }\n",
       "\n",
       "    .dataframe tbody tr th {\n",
       "        vertical-align: top;\n",
       "    }\n",
       "\n",
       "    .dataframe thead th {\n",
       "        text-align: right;\n",
       "    }\n",
       "</style>\n",
       "<table border=\"1\" class=\"dataframe\">\n",
       "  <thead>\n",
       "    <tr style=\"text-align: right;\">\n",
       "      <th></th>\n",
       "      <th>Crop</th>\n",
       "      <th>State</th>\n",
       "    </tr>\n",
       "  </thead>\n",
       "  <tbody>\n",
       "    <tr>\n",
       "      <th>28</th>\n",
       "      <td>Moong</td>\n",
       "      <td>Andhra Pradesh</td>\n",
       "    </tr>\n",
       "    <tr>\n",
       "      <th>48</th>\n",
       "      <td>Wheat</td>\n",
       "      <td>Rajasthan</td>\n",
       "    </tr>\n",
       "    <tr>\n",
       "      <th>25</th>\n",
       "      <td>Moong</td>\n",
       "      <td>Orissa</td>\n",
       "    </tr>\n",
       "    <tr>\n",
       "      <th>9</th>\n",
       "      <td>Cotton</td>\n",
       "      <td>Haryana</td>\n",
       "    </tr>\n",
       "    <tr>\n",
       "      <th>32</th>\n",
       "      <td>Paddy</td>\n",
       "      <td>West Bengal</td>\n",
       "    </tr>\n",
       "  </tbody>\n",
       "</table>\n",
       "</div>"
      ],
      "text/plain": [
       "      Crop           State\n",
       "28   Moong  Andhra Pradesh\n",
       "48   Wheat       Rajasthan\n",
       "25   Moong          Orissa\n",
       "9   Cotton         Haryana\n",
       "32   Paddy     West Bengal"
      ]
     },
     "execution_count": 25,
     "metadata": {},
     "output_type": "execute_result"
    }
   ],
   "source": [
    "crop_prod_sel_df.sample(5)"
   ]
  },
  {
   "cell_type": "markdown",
   "metadata": {},
   "source": [
    "Once we are done with the captilizing the columns, we'll merge the df with the `raw_df_2` on `Crop`."
   ]
  },
  {
   "cell_type": "code",
   "execution_count": 26,
   "metadata": {},
   "outputs": [
    {
     "data": {
      "text/html": [
       "<div>\n",
       "<style scoped>\n",
       "    .dataframe tbody tr th:only-of-type {\n",
       "        vertical-align: middle;\n",
       "    }\n",
       "\n",
       "    .dataframe tbody tr th {\n",
       "        vertical-align: top;\n",
       "    }\n",
       "\n",
       "    .dataframe thead th {\n",
       "        text-align: right;\n",
       "    }\n",
       "</style>\n",
       "<table border=\"1\" class=\"dataframe\">\n",
       "  <thead>\n",
       "    <tr style=\"text-align: right;\">\n",
       "      <th></th>\n",
       "      <th>Crop</th>\n",
       "      <th>Production 2006-07</th>\n",
       "      <th>Production 2007-08</th>\n",
       "      <th>Production 2008-09</th>\n",
       "      <th>Production 2009-10</th>\n",
       "      <th>Production 2010-11</th>\n",
       "      <th>Area 2006-07</th>\n",
       "      <th>Area 2007-08</th>\n",
       "      <th>Area 2008-09</th>\n",
       "      <th>Area 2009-10</th>\n",
       "      <th>Area 2010-11</th>\n",
       "      <th>Yield 2006-07</th>\n",
       "      <th>Yield 2007-08</th>\n",
       "      <th>Yield 2008-09</th>\n",
       "      <th>Yield 2009-10</th>\n",
       "      <th>Yield 2010-11</th>\n",
       "    </tr>\n",
       "  </thead>\n",
       "  <tbody>\n",
       "    <tr>\n",
       "      <th>35</th>\n",
       "      <td>Tea</td>\n",
       "      <td>132.2</td>\n",
       "      <td>132.8</td>\n",
       "      <td>132.0</td>\n",
       "      <td>132.0</td>\n",
       "      <td>132.0</td>\n",
       "      <td>135.3</td>\n",
       "      <td>137.8</td>\n",
       "      <td>137.8</td>\n",
       "      <td>137.8</td>\n",
       "      <td>137.8</td>\n",
       "      <td>97.7</td>\n",
       "      <td>96.3</td>\n",
       "      <td>95.8</td>\n",
       "      <td>95.8</td>\n",
       "      <td>95.8</td>\n",
       "    </tr>\n",
       "    <tr>\n",
       "      <th>3</th>\n",
       "      <td>Jowar</td>\n",
       "      <td>124.3</td>\n",
       "      <td>137.8</td>\n",
       "      <td>126.0</td>\n",
       "      <td>116.5</td>\n",
       "      <td>121.8</td>\n",
       "      <td>120.7</td>\n",
       "      <td>110.6</td>\n",
       "      <td>107.3</td>\n",
       "      <td>111.0</td>\n",
       "      <td>105.2</td>\n",
       "      <td>103.0</td>\n",
       "      <td>124.6</td>\n",
       "      <td>117.4</td>\n",
       "      <td>105.0</td>\n",
       "      <td>115.8</td>\n",
       "    </tr>\n",
       "    <tr>\n",
       "      <th>45</th>\n",
       "      <td>Coriander</td>\n",
       "      <td>126.4</td>\n",
       "      <td>167.9</td>\n",
       "      <td>131.3</td>\n",
       "      <td>128.5</td>\n",
       "      <td>261.3</td>\n",
       "      <td>79.1</td>\n",
       "      <td>94.8</td>\n",
       "      <td>97.9</td>\n",
       "      <td>88.8</td>\n",
       "      <td>130.7</td>\n",
       "      <td>159.8</td>\n",
       "      <td>177.2</td>\n",
       "      <td>134.1</td>\n",
       "      <td>144.7</td>\n",
       "      <td>199.9</td>\n",
       "    </tr>\n",
       "    <tr>\n",
       "      <th>39</th>\n",
       "      <td>Black pepper</td>\n",
       "      <td>134.2</td>\n",
       "      <td>91.5</td>\n",
       "      <td>92.2</td>\n",
       "      <td>99.2</td>\n",
       "      <td>101.1</td>\n",
       "      <td>130.8</td>\n",
       "      <td>104.7</td>\n",
       "      <td>126.9</td>\n",
       "      <td>104.2</td>\n",
       "      <td>97.8</td>\n",
       "      <td>102.6</td>\n",
       "      <td>87.4</td>\n",
       "      <td>72.7</td>\n",
       "      <td>95.2</td>\n",
       "      <td>103.4</td>\n",
       "    </tr>\n",
       "    <tr>\n",
       "      <th>36</th>\n",
       "      <td>Coffee</td>\n",
       "      <td>138.0</td>\n",
       "      <td>139.8</td>\n",
       "      <td>139.9</td>\n",
       "      <td>154.5</td>\n",
       "      <td>161.1</td>\n",
       "      <td>117.9</td>\n",
       "      <td>119.8</td>\n",
       "      <td>121.9</td>\n",
       "      <td>123.7</td>\n",
       "      <td>125.4</td>\n",
       "      <td>117.0</td>\n",
       "      <td>116.7</td>\n",
       "      <td>114.8</td>\n",
       "      <td>125.0</td>\n",
       "      <td>128.5</td>\n",
       "    </tr>\n",
       "  </tbody>\n",
       "</table>\n",
       "</div>"
      ],
      "text/plain": [
       "   Crop               Production 2006-07  Production 2007-08  \\\n",
       "35              Tea                132.2               132.8   \n",
       "3              Jowar               124.3               137.8   \n",
       "45         Coriander               126.4               167.9   \n",
       "39      Black pepper               134.2                91.5   \n",
       "36           Coffee                138.0               139.8   \n",
       "\n",
       "    Production 2008-09  Production 2009-10  Production 2010-11  Area 2006-07  \\\n",
       "35               132.0               132.0               132.0         135.3   \n",
       "3                126.0               116.5               121.8         120.7   \n",
       "45               131.3               128.5               261.3          79.1   \n",
       "39                92.2                99.2               101.1         130.8   \n",
       "36               139.9               154.5               161.1         117.9   \n",
       "\n",
       "    Area 2007-08  Area 2008-09  Area 2009-10  Area 2010-11  Yield 2006-07  \\\n",
       "35         137.8         137.8         137.8         137.8           97.7   \n",
       "3          110.6         107.3         111.0         105.2          103.0   \n",
       "45          94.8          97.9          88.8         130.7          159.8   \n",
       "39         104.7         126.9         104.2          97.8          102.6   \n",
       "36         119.8         121.9         123.7         125.4          117.0   \n",
       "\n",
       "    Yield 2007-08  Yield 2008-09  Yield 2009-10  Yield 2010-11  \n",
       "35           96.3           95.8           95.8           95.8  \n",
       "3           124.6          117.4          105.0          115.8  \n",
       "45          177.2          134.1          144.7          199.9  \n",
       "39           87.4           72.7           95.2          103.4  \n",
       "36          116.7          114.8          125.0          128.5  "
      ]
     },
     "execution_count": 26,
     "metadata": {},
     "output_type": "execute_result"
    }
   ],
   "source": [
    "raw_df_2.sample(5)"
   ]
  },
  {
   "cell_type": "code",
   "execution_count": 27,
   "metadata": {},
   "outputs": [
    {
     "data": {
      "text/plain": [
       "['Crop             ',\n",
       " 'Production 2006-07',\n",
       " 'Production 2007-08',\n",
       " 'Production 2008-09',\n",
       " 'Production 2009-10',\n",
       " 'Production 2010-11',\n",
       " 'Area 2006-07',\n",
       " 'Area 2007-08',\n",
       " 'Area 2008-09',\n",
       " 'Area 2009-10',\n",
       " 'Area 2010-11',\n",
       " 'Yield 2006-07',\n",
       " 'Yield 2007-08',\n",
       " 'Yield 2008-09',\n",
       " 'Yield 2009-10',\n",
       " 'Yield 2010-11']"
      ]
     },
     "execution_count": 27,
     "metadata": {},
     "output_type": "execute_result"
    }
   ],
   "source": [
    "\n",
    "raw_df_2.columns.tolist()"
   ]
  },
  {
   "cell_type": "code",
   "execution_count": 28,
   "metadata": {},
   "outputs": [
    {
     "data": {
      "text/html": [
       "<div>\n",
       "<style scoped>\n",
       "    .dataframe tbody tr th:only-of-type {\n",
       "        vertical-align: middle;\n",
       "    }\n",
       "\n",
       "    .dataframe tbody tr th {\n",
       "        vertical-align: top;\n",
       "    }\n",
       "\n",
       "    .dataframe thead th {\n",
       "        text-align: right;\n",
       "    }\n",
       "</style>\n",
       "<table border=\"1\" class=\"dataframe\">\n",
       "  <thead>\n",
       "    <tr style=\"text-align: right;\">\n",
       "      <th></th>\n",
       "      <th>Crop</th>\n",
       "      <th>Production 2006-07</th>\n",
       "      <th>Production 2007-08</th>\n",
       "      <th>Production 2008-09</th>\n",
       "      <th>Production 2009-10</th>\n",
       "      <th>Production 2010-11</th>\n",
       "    </tr>\n",
       "  </thead>\n",
       "  <tbody>\n",
       "    <tr>\n",
       "      <th>45</th>\n",
       "      <td>Coriander</td>\n",
       "      <td>126.4</td>\n",
       "      <td>167.9</td>\n",
       "      <td>131.3</td>\n",
       "      <td>128.5</td>\n",
       "      <td>261.3</td>\n",
       "    </tr>\n",
       "    <tr>\n",
       "      <th>0</th>\n",
       "      <td>Total Foodgrains</td>\n",
       "      <td>158.8</td>\n",
       "      <td>168.6</td>\n",
       "      <td>171.3</td>\n",
       "      <td>159.4</td>\n",
       "      <td>178.9</td>\n",
       "    </tr>\n",
       "    <tr>\n",
       "      <th>17</th>\n",
       "      <td>Groundnut</td>\n",
       "      <td>115.2</td>\n",
       "      <td>217.5</td>\n",
       "      <td>169.8</td>\n",
       "      <td>128.6</td>\n",
       "      <td>195.7</td>\n",
       "    </tr>\n",
       "    <tr>\n",
       "      <th>11</th>\n",
       "      <td>Gram</td>\n",
       "      <td>140.6</td>\n",
       "      <td>127.6</td>\n",
       "      <td>156.5</td>\n",
       "      <td>165.9</td>\n",
       "      <td>182.5</td>\n",
       "    </tr>\n",
       "    <tr>\n",
       "      <th>4</th>\n",
       "      <td>Bajra</td>\n",
       "      <td>136.4</td>\n",
       "      <td>161.5</td>\n",
       "      <td>143.9</td>\n",
       "      <td>105.4</td>\n",
       "      <td>167.9</td>\n",
       "    </tr>\n",
       "  </tbody>\n",
       "</table>\n",
       "</div>"
      ],
      "text/plain": [
       "   Crop               Production 2006-07  Production 2007-08  \\\n",
       "45         Coriander               126.4               167.9   \n",
       "0   Total Foodgrains               158.8               168.6   \n",
       "17         Groundnut               115.2               217.5   \n",
       "11              Gram               140.6               127.6   \n",
       "4              Bajra               136.4               161.5   \n",
       "\n",
       "    Production 2008-09  Production 2009-10  Production 2010-11  \n",
       "45               131.3               128.5               261.3  \n",
       "0                171.3               159.4               178.9  \n",
       "17               169.8               128.6               195.7  \n",
       "11               156.5               165.9               182.5  \n",
       "4                143.9               105.4               167.9  "
      ]
     },
     "execution_count": 28,
     "metadata": {},
     "output_type": "execute_result"
    }
   ],
   "source": [
    "# Lets select the required columns\n",
    "\n",
    "req_cols = ['Crop             ',\n",
    " 'Production 2006-07',\n",
    " 'Production 2007-08',\n",
    " 'Production 2008-09',\n",
    " 'Production 2009-10',\n",
    " 'Production 2010-11',]\n",
    "\n",
    "india_crop_production_raw_df = raw_df_2[req_cols].copy()\n",
    "\n",
    "india_crop_production_raw_df.sample(5)\n"
   ]
  },
  {
   "cell_type": "markdown",
   "metadata": {},
   "source": [
    "So this is the data frame with which we want to combine the `State` column. But before merging let's fix small error like extra spaces in the columns. "
   ]
  },
  {
   "cell_type": "code",
   "execution_count": 29,
   "metadata": {},
   "outputs": [],
   "source": [
    "india_crop_production_raw_df = india_crop_production_raw_df.rename(columns={'Crop             ' : 'Crop'})"
   ]
  },
  {
   "cell_type": "code",
   "execution_count": 30,
   "metadata": {},
   "outputs": [
    {
     "data": {
      "text/plain": [
       "['Crop',\n",
       " 'Production 2006-07',\n",
       " 'Production 2007-08',\n",
       " 'Production 2008-09',\n",
       " 'Production 2009-10',\n",
       " 'Production 2010-11']"
      ]
     },
     "execution_count": 30,
     "metadata": {},
     "output_type": "execute_result"
    }
   ],
   "source": [
    "india_crop_production_raw_df.columns.tolist()"
   ]
  },
  {
   "cell_type": "code",
   "execution_count": 31,
   "metadata": {},
   "outputs": [
    {
     "data": {
      "text/html": [
       "<div>\n",
       "<style scoped>\n",
       "    .dataframe tbody tr th:only-of-type {\n",
       "        vertical-align: middle;\n",
       "    }\n",
       "\n",
       "    .dataframe tbody tr th {\n",
       "        vertical-align: top;\n",
       "    }\n",
       "\n",
       "    .dataframe thead th {\n",
       "        text-align: right;\n",
       "    }\n",
       "</style>\n",
       "<table border=\"1\" class=\"dataframe\">\n",
       "  <thead>\n",
       "    <tr style=\"text-align: right;\">\n",
       "      <th></th>\n",
       "      <th>Crop</th>\n",
       "      <th>State</th>\n",
       "    </tr>\n",
       "  </thead>\n",
       "  <tbody>\n",
       "    <tr>\n",
       "      <th>35</th>\n",
       "      <td>Rapeseed and mustard</td>\n",
       "      <td>Madhya Pradesh</td>\n",
       "    </tr>\n",
       "    <tr>\n",
       "      <th>7</th>\n",
       "      <td>Cotton</td>\n",
       "      <td>Andhra Pradesh</td>\n",
       "    </tr>\n",
       "    <tr>\n",
       "      <th>26</th>\n",
       "      <td>Moong</td>\n",
       "      <td>Rajasthan</td>\n",
       "    </tr>\n",
       "    <tr>\n",
       "      <th>0</th>\n",
       "      <td>Arhar</td>\n",
       "      <td>Uttar Pradesh</td>\n",
       "    </tr>\n",
       "    <tr>\n",
       "      <th>27</th>\n",
       "      <td>Moong</td>\n",
       "      <td>Karnataka</td>\n",
       "    </tr>\n",
       "  </tbody>\n",
       "</table>\n",
       "</div>"
      ],
      "text/plain": [
       "                    Crop           State\n",
       "35  Rapeseed and mustard  Madhya Pradesh\n",
       "7                 Cotton  Andhra Pradesh\n",
       "26                 Moong       Rajasthan\n",
       "0                  Arhar   Uttar Pradesh\n",
       "27                 Moong       Karnataka"
      ]
     },
     "execution_count": 31,
     "metadata": {},
     "output_type": "execute_result"
    }
   ],
   "source": [
    "crop_prod_sel_df.sample(5)"
   ]
  },
  {
   "cell_type": "code",
   "execution_count": 32,
   "metadata": {},
   "outputs": [
    {
     "data": {
      "text/html": [
       "<div>\n",
       "<style scoped>\n",
       "    .dataframe tbody tr th:only-of-type {\n",
       "        vertical-align: middle;\n",
       "    }\n",
       "\n",
       "    .dataframe tbody tr th {\n",
       "        vertical-align: top;\n",
       "    }\n",
       "\n",
       "    .dataframe thead th {\n",
       "        text-align: right;\n",
       "    }\n",
       "</style>\n",
       "<table border=\"1\" class=\"dataframe\">\n",
       "  <thead>\n",
       "    <tr style=\"text-align: right;\">\n",
       "      <th></th>\n",
       "      <th>Crop</th>\n",
       "      <th>Production 2006-07</th>\n",
       "      <th>Production 2007-08</th>\n",
       "      <th>Production 2008-09</th>\n",
       "      <th>Production 2009-10</th>\n",
       "      <th>Production 2010-11</th>\n",
       "    </tr>\n",
       "  </thead>\n",
       "  <tbody>\n",
       "    <tr>\n",
       "      <th>39</th>\n",
       "      <td>Black pepper</td>\n",
       "      <td>134.2</td>\n",
       "      <td>91.5</td>\n",
       "      <td>92.2</td>\n",
       "      <td>99.2</td>\n",
       "      <td>101.1</td>\n",
       "    </tr>\n",
       "    <tr>\n",
       "      <th>18</th>\n",
       "      <td>Sesamum</td>\n",
       "      <td>95.5</td>\n",
       "      <td>116.8</td>\n",
       "      <td>98.8</td>\n",
       "      <td>90.8</td>\n",
       "      <td>137.9</td>\n",
       "    </tr>\n",
       "    <tr>\n",
       "      <th>1</th>\n",
       "      <td>Rice</td>\n",
       "      <td>200.8</td>\n",
       "      <td>207.9</td>\n",
       "      <td>213.3</td>\n",
       "      <td>191.6</td>\n",
       "      <td>206.4</td>\n",
       "    </tr>\n",
       "    <tr>\n",
       "      <th>8</th>\n",
       "      <td>Barley</td>\n",
       "      <td>88.1</td>\n",
       "      <td>79.3</td>\n",
       "      <td>112.0</td>\n",
       "      <td>89.9</td>\n",
       "      <td>110.3</td>\n",
       "    </tr>\n",
       "    <tr>\n",
       "      <th>23</th>\n",
       "      <td>Niger seed</td>\n",
       "      <td>65.1</td>\n",
       "      <td>59.0</td>\n",
       "      <td>63.0</td>\n",
       "      <td>53.8</td>\n",
       "      <td>58.0</td>\n",
       "    </tr>\n",
       "  </tbody>\n",
       "</table>\n",
       "</div>"
      ],
      "text/plain": [
       "            Crop  Production 2006-07  Production 2007-08  Production 2008-09  \\\n",
       "39  Black pepper               134.2                91.5                92.2   \n",
       "18       Sesamum                95.5               116.8                98.8   \n",
       "1           Rice               200.8               207.9               213.3   \n",
       "8         Barley                88.1                79.3               112.0   \n",
       "23    Niger seed                65.1                59.0                63.0   \n",
       "\n",
       "    Production 2009-10  Production 2010-11  \n",
       "39                99.2               101.1  \n",
       "18                90.8               137.9  \n",
       "1                191.6               206.4  \n",
       "8                 89.9               110.3  \n",
       "23                53.8                58.0  "
      ]
     },
     "execution_count": 32,
     "metadata": {},
     "output_type": "execute_result"
    }
   ],
   "source": [
    "india_crop_production_raw_df.sample(5)"
   ]
  },
  {
   "cell_type": "code",
   "execution_count": 33,
   "metadata": {},
   "outputs": [],
   "source": [
    "# merging the data frame \n",
    "\n",
    "india_crop_production_df = india_crop_production_raw_df.merge(crop_prod_sel_df, on=\"Crop\")"
   ]
  },
  {
   "cell_type": "code",
   "execution_count": 34,
   "metadata": {},
   "outputs": [
    {
     "data": {
      "text/html": [
       "<div>\n",
       "<style scoped>\n",
       "    .dataframe tbody tr th:only-of-type {\n",
       "        vertical-align: middle;\n",
       "    }\n",
       "\n",
       "    .dataframe tbody tr th {\n",
       "        vertical-align: top;\n",
       "    }\n",
       "\n",
       "    .dataframe thead th {\n",
       "        text-align: right;\n",
       "    }\n",
       "</style>\n",
       "<table border=\"1\" class=\"dataframe\">\n",
       "  <thead>\n",
       "    <tr style=\"text-align: right;\">\n",
       "      <th></th>\n",
       "      <th>Crop</th>\n",
       "      <th>Production 2006-07</th>\n",
       "      <th>Production 2007-08</th>\n",
       "      <th>Production 2008-09</th>\n",
       "      <th>Production 2009-10</th>\n",
       "      <th>Production 2010-11</th>\n",
       "      <th>State</th>\n",
       "    </tr>\n",
       "  </thead>\n",
       "  <tbody>\n",
       "    <tr>\n",
       "      <th>19</th>\n",
       "      <td>Groundnut</td>\n",
       "      <td>115.2</td>\n",
       "      <td>217.5</td>\n",
       "      <td>169.8</td>\n",
       "      <td>128.6</td>\n",
       "      <td>195.7</td>\n",
       "      <td>Karnataka</td>\n",
       "    </tr>\n",
       "    <tr>\n",
       "      <th>27</th>\n",
       "      <td>Sugarcane</td>\n",
       "      <td>149.8</td>\n",
       "      <td>146.7</td>\n",
       "      <td>120.1</td>\n",
       "      <td>123.2</td>\n",
       "      <td>144.3</td>\n",
       "      <td>Maharashtra</td>\n",
       "    </tr>\n",
       "    <tr>\n",
       "      <th>24</th>\n",
       "      <td>Sugarcane</td>\n",
       "      <td>149.8</td>\n",
       "      <td>146.7</td>\n",
       "      <td>120.1</td>\n",
       "      <td>123.2</td>\n",
       "      <td>144.3</td>\n",
       "      <td>Uttar Pradesh</td>\n",
       "    </tr>\n",
       "    <tr>\n",
       "      <th>10</th>\n",
       "      <td>Gram</td>\n",
       "      <td>140.6</td>\n",
       "      <td>127.6</td>\n",
       "      <td>156.5</td>\n",
       "      <td>165.9</td>\n",
       "      <td>182.5</td>\n",
       "      <td>Madhya Pradesh</td>\n",
       "    </tr>\n",
       "    <tr>\n",
       "      <th>18</th>\n",
       "      <td>Arhar</td>\n",
       "      <td>97.0</td>\n",
       "      <td>128.9</td>\n",
       "      <td>94.9</td>\n",
       "      <td>103.3</td>\n",
       "      <td>119.9</td>\n",
       "      <td>Maharashtra</td>\n",
       "    </tr>\n",
       "  </tbody>\n",
       "</table>\n",
       "</div>"
      ],
      "text/plain": [
       "         Crop  Production 2006-07  Production 2007-08  Production 2008-09  \\\n",
       "19  Groundnut               115.2               217.5               169.8   \n",
       "27  Sugarcane               149.8               146.7               120.1   \n",
       "24  Sugarcane               149.8               146.7               120.1   \n",
       "10       Gram               140.6               127.6               156.5   \n",
       "18      Arhar                97.0               128.9                94.9   \n",
       "\n",
       "    Production 2009-10  Production 2010-11           State  \n",
       "19               128.6               195.7       Karnataka  \n",
       "27               123.2               144.3     Maharashtra  \n",
       "24               123.2               144.3   Uttar Pradesh  \n",
       "10               165.9               182.5  Madhya Pradesh  \n",
       "18               103.3               119.9     Maharashtra  "
      ]
     },
     "execution_count": 34,
     "metadata": {},
     "output_type": "execute_result"
    }
   ],
   "source": [
    "india_crop_production_df.sample(5)"
   ]
  },
  {
   "cell_type": "code",
   "execution_count": 35,
   "metadata": {},
   "outputs": [],
   "source": [
    "# saving the data frame\n",
    "\n",
    "india_crop_production_df.to_csv('india-crop-production.csv')"
   ]
  },
  {
   "cell_type": "markdown",
   "metadata": {},
   "source": [
    "Let us save and upload our work to Jovian before continuing"
   ]
  },
  {
   "cell_type": "code",
   "execution_count": 36,
   "metadata": {},
   "outputs": [],
   "source": [
    "!pip install jovian --upgrade --quiet"
   ]
  },
  {
   "cell_type": "code",
   "execution_count": 37,
   "metadata": {},
   "outputs": [
    {
     "data": {
      "application/javascript": [
       "if (window.IPython && IPython.notebook.kernel) IPython.notebook.kernel.execute('jovian.utils.jupyter.get_notebook_name_saved = lambda: \"' + IPython.notebook.notebook_name + '\"')"
      ],
      "text/plain": [
       "<IPython.core.display.Javascript object>"
      ]
     },
     "metadata": {},
     "output_type": "display_data"
    }
   ],
   "source": [
    "import jovian\n",
    "jovian.commit(files=['india-crop-production.csv', 'india-temp.csv'])"
   ]
  },
  {
   "cell_type": "markdown",
   "metadata": {},
   "source": [
    "## Exploratory Analysis and Visualization\n",
    "\n",
    "\n",
    "Let's begin by importing `matplotlib.pyplot` and `seaborn`."
   ]
  },
  {
   "cell_type": "code",
   "execution_count": 85,
   "metadata": {},
   "outputs": [],
   "source": [
    "import seaborn as sns\n",
    "import matplotlib\n",
    "import matplotlib.pyplot as plt\n",
    "%matplotlib inline\n",
    "\n",
    "sns.set_style('darkgrid')\n",
    "matplotlib.rcParams['font.size'] = 13\n",
    "matplotlib.rcParams['figure.figsize'] = (15, 8)\n",
    "matplotlib.rcParams['figure.facecolor'] = '#00000000'"
   ]
  },
  {
   "cell_type": "markdown",
   "metadata": {},
   "source": [
    "### Understanding the Average Temperature Data of Different States\n",
    "\n",
    "By looking at the graph we get an idea about the average temperatures at different states. Sikkim and Jammu and Kashmir have the most coolest temperature, whereas Delhi and Rajasthan have the most hottest temperature."
   ]
  },
  {
   "cell_type": "code",
   "execution_count": 63,
   "metadata": {},
   "outputs": [
    {
     "data": {
      "image/png": "[encoded data removed]",
      "text/plain": [
       "<matplotlib.figure.Figure at 0x7f3695751588>"
      ]
     },
     "metadata": {
      "needs_background": "light"
     },
     "output_type": "display_data"
    }
   ],
   "source": [
    "# ploting the average-temperature graph with respect to its states\n",
    "\n",
    "plt.scatter(india_temp_df.State, india_temp_df.AverageTemperature);\n",
    "plt.xticks(rotation=80);\n",
    "\n",
    "plt.title('India Average Temperature')\n",
    "plt.legend(['Average Temperature'])\n",
    "\n",
    "plt.xlabel('Different States of India')\n",
    "plt.ylabel('Temperature of Different States');"
   ]
  },
  {
   "cell_type": "markdown",
   "metadata": {},
   "source": [
    "### Exploring the Crops Production Data of Different States"
   ]
  },
  {
   "cell_type": "code",
   "execution_count": 64,
   "metadata": {},
   "outputs": [
    {
     "data": {
      "image/png": "[encoded data removed]",
      "text/plain": [
       "<matplotlib.figure.Figure at 0x7f3695b87198>"
      ]
     },
     "metadata": {
      "needs_background": "light"
     },
     "output_type": "display_data"
    }
   ],
   "source": [
    "# Plotting a graph for the crop production from 2006 to 2011\n",
    "\n",
    "india_crop_production_df.plot();\n",
    "plt.title('Crop Production from 2006 - 11');\n",
    "\n",
    "plt.ylabel('Crops Production (tons per hecter)');"
   ]
  },
  {
   "cell_type": "code",
   "execution_count": 41,
   "metadata": {},
   "outputs": [
    {
     "data": {
      "image/png": "[encoded data removed]",
      "text/plain": [
       "<matplotlib.figure.Figure at 0x7f36a708d630>"
      ]
     },
     "metadata": {
      "needs_background": "light"
     },
     "output_type": "display_data"
    }
   ],
   "source": [
    "# To understand the complete dataset- pair plot is the best\n",
    "\n",
    "sns.pairplot(india_crop_production_df);"
   ]
  },
  {
   "cell_type": "code",
   "execution_count": null,
   "metadata": {},
   "outputs": [],
   "source": []
  },
  {
   "cell_type": "code",
   "execution_count": null,
   "metadata": {},
   "outputs": [],
   "source": []
  },
  {
   "cell_type": "markdown",
   "metadata": {},
   "source": [
    "## Asking and Answering Questions\n",
    "\n",
    "We've already gained some insights about our datasets - `india_temp_df` and `india_crop_prod_df`. we have seen which are the most warm and coldest states of india, simply by plotting the line graph using the `matplotlib` python library. So now let's try to answer some interesting questions.\n"
   ]
  },
  {
   "cell_type": "markdown",
   "metadata": {},
   "source": [
    "### Q1: Which are the states and what the different crops grown?\n",
    "\n",
    "To answer this question we'll use the `.unique()` method to display the list of different crops and states.\n",
    "\n",
    ">`.unique()` --  While analyzing the data, many times the user wants to see the unique values in a particular column, which can be done using Pandas unique() function."
   ]
  },
  {
   "cell_type": "code",
   "execution_count": 42,
   "metadata": {},
   "outputs": [
    {
     "data": {
      "text/plain": [
       "['Madhya Pradesh',\n",
       " 'Punjab',\n",
       " 'Uttar Pradesh',\n",
       " 'Rajasthan',\n",
       " 'Bihar',\n",
       " 'Karnataka',\n",
       " 'Andhra Pradesh',\n",
       " 'Maharashtra',\n",
       " 'Gujarat',\n",
       " 'Tamil Nadu']"
      ]
     },
     "execution_count": 42,
     "metadata": {},
     "output_type": "execute_result"
    }
   ],
   "source": [
    "#list of states\n",
    "dif_states = india_crop_production_df['State'].unique().tolist()\n",
    "\n",
    "dif_states"
   ]
  },
  {
   "cell_type": "code",
   "execution_count": 43,
   "metadata": {},
   "outputs": [
    {
     "data": {
      "text/plain": [
       "['Wheat', 'Maize', 'Gram', 'Arhar', 'Groundnut', 'Sugarcane']"
      ]
     },
     "execution_count": 43,
     "metadata": {},
     "output_type": "execute_result"
    }
   ],
   "source": [
    "# list of crops\n",
    "dif_crops = india_crop_production_df['Crop'].unique().tolist()\n",
    "\n",
    "dif_crops"
   ]
  },
  {
   "cell_type": "markdown",
   "metadata": {},
   "source": [
    "### Q2: Which is the most and the least produced crops?\n",
    "\n",
    "To understand this questions, well have to create a new columns `Total Production` which will store the sum of all the production of particular crop from 2006 to 2011, and after that we can easily we can answer the question. Using the `.nlargest()` and `.nsmallest()` pandas method. We can also use the `.sort_values` method.\n",
    "\n",
    "\n",
    "> `.sort_values` -- Sort by the values along either axis. `ascending` parameter : bool or list of bool, default True Sort ascending vs. descending. Specify list for multiple sort orders.  If this is a list of bools, must match the length of the by.\n",
    "     \n",
    "     \n",
    "> `.nlargest()` -- Get the rows of a DataFrame sorted by the `n` largest values of `columns`.\n",
    "\n"
   ]
  },
  {
   "cell_type": "code",
   "execution_count": 44,
   "metadata": {},
   "outputs": [],
   "source": [
    "india_crop_production_df['Total Production'] = india_crop_production_df.sum(axis=1)"
   ]
  },
  {
   "cell_type": "code",
   "execution_count": 45,
   "metadata": {},
   "outputs": [
    {
     "data": {
      "text/html": [
       "<div>\n",
       "<style scoped>\n",
       "    .dataframe tbody tr th:only-of-type {\n",
       "        vertical-align: middle;\n",
       "    }\n",
       "\n",
       "    .dataframe tbody tr th {\n",
       "        vertical-align: top;\n",
       "    }\n",
       "\n",
       "    .dataframe thead th {\n",
       "        text-align: right;\n",
       "    }\n",
       "</style>\n",
       "<table border=\"1\" class=\"dataframe\">\n",
       "  <thead>\n",
       "    <tr style=\"text-align: right;\">\n",
       "      <th></th>\n",
       "      <th>Crop</th>\n",
       "      <th>Production 2006-07</th>\n",
       "      <th>Production 2007-08</th>\n",
       "      <th>Production 2008-09</th>\n",
       "      <th>Production 2009-10</th>\n",
       "      <th>Production 2010-11</th>\n",
       "      <th>State</th>\n",
       "      <th>Total Production</th>\n",
       "    </tr>\n",
       "  </thead>\n",
       "  <tbody>\n",
       "    <tr>\n",
       "      <th>0</th>\n",
       "      <td>Wheat</td>\n",
       "      <td>131.6</td>\n",
       "      <td>136.4</td>\n",
       "      <td>140.1</td>\n",
       "      <td>140.3</td>\n",
       "      <td>150.8</td>\n",
       "      <td>Madhya Pradesh</td>\n",
       "      <td>699.2</td>\n",
       "    </tr>\n",
       "    <tr>\n",
       "      <th>1</th>\n",
       "      <td>Wheat</td>\n",
       "      <td>131.6</td>\n",
       "      <td>136.4</td>\n",
       "      <td>140.1</td>\n",
       "      <td>140.3</td>\n",
       "      <td>150.8</td>\n",
       "      <td>Punjab</td>\n",
       "      <td>699.2</td>\n",
       "    </tr>\n",
       "    <tr>\n",
       "      <th>2</th>\n",
       "      <td>Wheat</td>\n",
       "      <td>131.6</td>\n",
       "      <td>136.4</td>\n",
       "      <td>140.1</td>\n",
       "      <td>140.3</td>\n",
       "      <td>150.8</td>\n",
       "      <td>Uttar Pradesh</td>\n",
       "      <td>699.2</td>\n",
       "    </tr>\n",
       "    <tr>\n",
       "      <th>3</th>\n",
       "      <td>Wheat</td>\n",
       "      <td>131.6</td>\n",
       "      <td>136.4</td>\n",
       "      <td>140.1</td>\n",
       "      <td>140.3</td>\n",
       "      <td>150.8</td>\n",
       "      <td>Rajasthan</td>\n",
       "      <td>699.2</td>\n",
       "    </tr>\n",
       "    <tr>\n",
       "      <th>4</th>\n",
       "      <td>Maize</td>\n",
       "      <td>198.8</td>\n",
       "      <td>249.6</td>\n",
       "      <td>259.8</td>\n",
       "      <td>220.1</td>\n",
       "      <td>286.0</td>\n",
       "      <td>Bihar</td>\n",
       "      <td>1214.3</td>\n",
       "    </tr>\n",
       "  </tbody>\n",
       "</table>\n",
       "</div>"
      ],
      "text/plain": [
       "    Crop  Production 2006-07  Production 2007-08  Production 2008-09  \\\n",
       "0  Wheat               131.6               136.4               140.1   \n",
       "1  Wheat               131.6               136.4               140.1   \n",
       "2  Wheat               131.6               136.4               140.1   \n",
       "3  Wheat               131.6               136.4               140.1   \n",
       "4  Maize               198.8               249.6               259.8   \n",
       "\n",
       "   Production 2009-10  Production 2010-11           State  Total Production  \n",
       "0               140.3               150.8  Madhya Pradesh             699.2  \n",
       "1               140.3               150.8          Punjab             699.2  \n",
       "2               140.3               150.8   Uttar Pradesh             699.2  \n",
       "3               140.3               150.8       Rajasthan             699.2  \n",
       "4               220.1               286.0           Bihar            1214.3  "
      ]
     },
     "execution_count": 45,
     "metadata": {},
     "output_type": "execute_result"
    }
   ],
   "source": [
    "india_crop_production_df.head()"
   ]
  },
  {
   "cell_type": "code",
   "execution_count": 46,
   "metadata": {},
   "outputs": [
    {
     "data": {
      "text/plain": [
       "4    1214.3\n",
       "Name: Total Production, dtype: float64"
      ]
     },
     "execution_count": 46,
     "metadata": {},
     "output_type": "execute_result"
    }
   ],
   "source": [
    "india_crop_production_df['Total Production'].nlargest(1)"
   ]
  },
  {
   "cell_type": "code",
   "execution_count": 47,
   "metadata": {
    "scrolled": true
   },
   "outputs": [
    {
     "data": {
      "text/html": [
       "<div>\n",
       "<style scoped>\n",
       "    .dataframe tbody tr th:only-of-type {\n",
       "        vertical-align: middle;\n",
       "    }\n",
       "\n",
       "    .dataframe tbody tr th {\n",
       "        vertical-align: top;\n",
       "    }\n",
       "\n",
       "    .dataframe thead th {\n",
       "        text-align: right;\n",
       "    }\n",
       "</style>\n",
       "<table border=\"1\" class=\"dataframe\">\n",
       "  <thead>\n",
       "    <tr style=\"text-align: right;\">\n",
       "      <th></th>\n",
       "      <th>Crop</th>\n",
       "      <th>Production 2006-07</th>\n",
       "      <th>Production 2007-08</th>\n",
       "      <th>Production 2008-09</th>\n",
       "      <th>Production 2009-10</th>\n",
       "      <th>Production 2010-11</th>\n",
       "      <th>State</th>\n",
       "      <th>Total Production</th>\n",
       "    </tr>\n",
       "  </thead>\n",
       "  <tbody>\n",
       "    <tr>\n",
       "      <th>4</th>\n",
       "      <td>Maize</td>\n",
       "      <td>198.8</td>\n",
       "      <td>249.6</td>\n",
       "      <td>259.8</td>\n",
       "      <td>220.1</td>\n",
       "      <td>286.0</td>\n",
       "      <td>Bihar</td>\n",
       "      <td>1214.3</td>\n",
       "    </tr>\n",
       "  </tbody>\n",
       "</table>\n",
       "</div>"
      ],
      "text/plain": [
       "    Crop  Production 2006-07  Production 2007-08  Production 2008-09  \\\n",
       "4  Maize               198.8               249.6               259.8   \n",
       "\n",
       "   Production 2009-10  Production 2010-11  State  Total Production  \n",
       "4               220.1               286.0  Bihar            1214.3  "
      ]
     },
     "execution_count": 47,
     "metadata": {},
     "output_type": "execute_result"
    }
   ],
   "source": [
    "# Sorting the most grown crops using the .sort_values method\n",
    "\n",
    "india_crop_production_df.sort_values('Total Production',ascending = False).head(1)"
   ]
  },
  {
   "cell_type": "code",
   "execution_count": 48,
   "metadata": {},
   "outputs": [
    {
     "data": {
      "text/html": [
       "<div>\n",
       "<style scoped>\n",
       "    .dataframe tbody tr th:only-of-type {\n",
       "        vertical-align: middle;\n",
       "    }\n",
       "\n",
       "    .dataframe tbody tr th {\n",
       "        vertical-align: top;\n",
       "    }\n",
       "\n",
       "    .dataframe thead th {\n",
       "        text-align: right;\n",
       "    }\n",
       "</style>\n",
       "<table border=\"1\" class=\"dataframe\">\n",
       "  <thead>\n",
       "    <tr style=\"text-align: right;\">\n",
       "      <th></th>\n",
       "      <th>Crop</th>\n",
       "      <th>Production 2006-07</th>\n",
       "      <th>Production 2007-08</th>\n",
       "      <th>Production 2008-09</th>\n",
       "      <th>Production 2009-10</th>\n",
       "      <th>Production 2010-11</th>\n",
       "      <th>State</th>\n",
       "      <th>Total Production</th>\n",
       "    </tr>\n",
       "  </thead>\n",
       "  <tbody>\n",
       "    <tr>\n",
       "      <th>14</th>\n",
       "      <td>Arhar</td>\n",
       "      <td>97.0</td>\n",
       "      <td>128.9</td>\n",
       "      <td>94.9</td>\n",
       "      <td>103.3</td>\n",
       "      <td>119.9</td>\n",
       "      <td>Uttar Pradesh</td>\n",
       "      <td>544.0</td>\n",
       "    </tr>\n",
       "  </tbody>\n",
       "</table>\n",
       "</div>"
      ],
      "text/plain": [
       "     Crop  Production 2006-07  Production 2007-08  Production 2008-09  \\\n",
       "14  Arhar                97.0               128.9                94.9   \n",
       "\n",
       "    Production 2009-10  Production 2010-11          State  Total Production  \n",
       "14               103.3               119.9  Uttar Pradesh             544.0  "
      ]
     },
     "execution_count": 48,
     "metadata": {},
     "output_type": "execute_result"
    }
   ],
   "source": [
    "# Sorting the least grown crops using the .sort_values method\n",
    "\n",
    "india_crop_production_df.sort_values('Total Production',ascending = True).head(1)"
   ]
  },
  {
   "cell_type": "code",
   "execution_count": 49,
   "metadata": {},
   "outputs": [
    {
     "data": {
      "text/plain": [
       "array([ 699.2, 1214.3,  773.1,  544. ,  826.8,  684.1])"
      ]
     },
     "execution_count": 49,
     "metadata": {},
     "output_type": "execute_result"
    }
   ],
   "source": [
    "crops_total_production = india_crop_production_df['Total Production'].unique()\n",
    "\n",
    "crops_total_production"
   ]
  },
  {
   "cell_type": "code",
   "execution_count": 65,
   "metadata": {},
   "outputs": [
    {
     "data": {
      "image/png": "[encoded data removed]",
      "text/plain": [
       "<matplotlib.figure.Figure at 0x7f3695ac7358>"
      ]
     },
     "metadata": {
      "needs_background": "light"
     },
     "output_type": "display_data"
    }
   ],
   "source": [
    "# plotting the bar for the most and the least grown crop\n",
    "\n",
    "plt.bar(dif_crops, crops_total_production);\n",
    "plt.title('Total Crops Produced');\n",
    "\n",
    "plt.xlabel('Different Crops');\n",
    "plt.ylabel('Total Production (tons per hecter)');\n",
    "plt.legend(['Different Crops']);"
   ]
  },
  {
   "cell_type": "markdown",
   "metadata": {},
   "source": [
    "So, now by looking at the visual picture of all the crops grown, we can conclude/ answer the question, saying Arhar is the least grown crop and Maize is the most grown crop."
   ]
  },
  {
   "cell_type": "markdown",
   "metadata": {},
   "source": [
    "### Merging the data frames\n",
    "\n",
    "Merging the `india_temp_df` to `india_crop_production_df` on `States` using the pandas `.merge()` function/method. \n",
    "\n",
    "> `.merge()` -- Merge DataFrame objects by performing a database-style join operation by columns or indexes. If joining columns on columns, the DataFrame indexes *will be ignored*. Otherwise if joining indexes on indexes or indexes on a column or columns, the index will be passed on."
   ]
  },
  {
   "cell_type": "code",
   "execution_count": 51,
   "metadata": {},
   "outputs": [],
   "source": [
    "# merging both the data frames\n",
    "\n",
    "main_df = india_temp_df.merge(india_crop_production_df, on=\"State\")"
   ]
  },
  {
   "cell_type": "code",
   "execution_count": 52,
   "metadata": {},
   "outputs": [
    {
     "data": {
      "text/html": [
       "<div>\n",
       "<style scoped>\n",
       "    .dataframe tbody tr th:only-of-type {\n",
       "        vertical-align: middle;\n",
       "    }\n",
       "\n",
       "    .dataframe tbody tr th {\n",
       "        vertical-align: top;\n",
       "    }\n",
       "\n",
       "    .dataframe thead th {\n",
       "        text-align: right;\n",
       "    }\n",
       "</style>\n",
       "<table border=\"1\" class=\"dataframe\">\n",
       "  <thead>\n",
       "    <tr style=\"text-align: right;\">\n",
       "      <th></th>\n",
       "      <th>dt</th>\n",
       "      <th>AverageTemperature</th>\n",
       "      <th>State</th>\n",
       "      <th>Crop</th>\n",
       "      <th>Production 2006-07</th>\n",
       "      <th>Production 2007-08</th>\n",
       "      <th>Production 2008-09</th>\n",
       "      <th>Production 2009-10</th>\n",
       "      <th>Production 2010-11</th>\n",
       "      <th>Total Production</th>\n",
       "    </tr>\n",
       "  </thead>\n",
       "  <tbody>\n",
       "    <tr>\n",
       "      <th>73844</th>\n",
       "      <td>1985-07-01</td>\n",
       "      <td>29.099</td>\n",
       "      <td>Uttar Pradesh</td>\n",
       "      <td>Sugarcane</td>\n",
       "      <td>149.8</td>\n",
       "      <td>146.7</td>\n",
       "      <td>120.1</td>\n",
       "      <td>123.2</td>\n",
       "      <td>144.3</td>\n",
       "      <td>684.1</td>\n",
       "    </tr>\n",
       "    <tr>\n",
       "      <th>47488</th>\n",
       "      <td>1854-01-01</td>\n",
       "      <td>11.875</td>\n",
       "      <td>Punjab</td>\n",
       "      <td>Wheat</td>\n",
       "      <td>131.6</td>\n",
       "      <td>136.4</td>\n",
       "      <td>140.1</td>\n",
       "      <td>140.3</td>\n",
       "      <td>150.8</td>\n",
       "      <td>699.2</td>\n",
       "    </tr>\n",
       "    <tr>\n",
       "      <th>47462</th>\n",
       "      <td>1851-11-01</td>\n",
       "      <td>17.312</td>\n",
       "      <td>Punjab</td>\n",
       "      <td>Wheat</td>\n",
       "      <td>131.6</td>\n",
       "      <td>136.4</td>\n",
       "      <td>140.1</td>\n",
       "      <td>140.3</td>\n",
       "      <td>150.8</td>\n",
       "      <td>699.2</td>\n",
       "    </tr>\n",
       "    <tr>\n",
       "      <th>29701</th>\n",
       "      <td>1979-04-01</td>\n",
       "      <td>30.119</td>\n",
       "      <td>Karnataka</td>\n",
       "      <td>Arhar</td>\n",
       "      <td>97.0</td>\n",
       "      <td>128.9</td>\n",
       "      <td>94.9</td>\n",
       "      <td>103.3</td>\n",
       "      <td>119.9</td>\n",
       "      <td>544.0</td>\n",
       "    </tr>\n",
       "    <tr>\n",
       "      <th>60822</th>\n",
       "      <td>1945-02-01</td>\n",
       "      <td>26.052</td>\n",
       "      <td>Tamil Nadu</td>\n",
       "      <td>Groundnut</td>\n",
       "      <td>115.2</td>\n",
       "      <td>217.5</td>\n",
       "      <td>169.8</td>\n",
       "      <td>128.6</td>\n",
       "      <td>195.7</td>\n",
       "      <td>826.8</td>\n",
       "    </tr>\n",
       "  </tbody>\n",
       "</table>\n",
       "</div>"
      ],
      "text/plain": [
       "              dt  AverageTemperature          State       Crop  \\\n",
       "73844 1985-07-01              29.099  Uttar Pradesh  Sugarcane   \n",
       "47488 1854-01-01              11.875         Punjab      Wheat   \n",
       "47462 1851-11-01              17.312         Punjab      Wheat   \n",
       "29701 1979-04-01              30.119      Karnataka      Arhar   \n",
       "60822 1945-02-01              26.052     Tamil Nadu  Groundnut   \n",
       "\n",
       "       Production 2006-07  Production 2007-08  Production 2008-09  \\\n",
       "73844               149.8               146.7               120.1   \n",
       "47488               131.6               136.4               140.1   \n",
       "47462               131.6               136.4               140.1   \n",
       "29701                97.0               128.9                94.9   \n",
       "60822               115.2               217.5               169.8   \n",
       "\n",
       "       Production 2009-10  Production 2010-11  Total Production  \n",
       "73844               123.2               144.3             684.1  \n",
       "47488               140.3               150.8             699.2  \n",
       "47462               140.3               150.8             699.2  \n",
       "29701               103.3               119.9             544.0  \n",
       "60822               128.6               195.7             826.8  "
      ]
     },
     "execution_count": 52,
     "metadata": {},
     "output_type": "execute_result"
    }
   ],
   "source": [
    "main_df.sample(5)"
   ]
  },
  {
   "cell_type": "markdown",
   "metadata": {},
   "source": [
    "### Q3: Which states produces the most and least crops?\n",
    "\n",
    "To answer this question, we'll create a seprate dataframe using the pandas `.groupby` method.\n",
    "\n",
    "> `.groupby` -- Group series using mapper (dict or key function, apply given function to group, return result as series) or by a series of columns."
   ]
  },
  {
   "cell_type": "code",
   "execution_count": 53,
   "metadata": {},
   "outputs": [],
   "source": [
    "crops_by_states = india_crop_production_df.groupby(['State']).size().to_frame()\n",
    "\n",
    "# crops_by_states.sort_values('State')"
   ]
  },
  {
   "cell_type": "code",
   "execution_count": 66,
   "metadata": {},
   "outputs": [
    {
     "data": {
      "image/png": "[encoded data removed]",
      "text/plain": [
       "<matplotlib.figure.Figure at 0x7f3698b1ff60>"
      ]
     },
     "metadata": {
      "needs_background": "light"
     },
     "output_type": "display_data"
    }
   ],
   "source": [
    "# plotting the simple line graph\n",
    "\n",
    "plt.plot(crops_by_states);\n",
    "plt.xticks(rotation=80);\n",
    "\n",
    "plt.title('Crop Produced by States')\n",
    "plt.legend(['Crops'])\n",
    "\n",
    "plt.xlabel('Different States of India')\n",
    "plt.ylabel('Number of Crops');"
   ]
  },
  {
   "cell_type": "markdown",
   "metadata": {},
   "source": [
    "After looking at the graph we get an idea about the most and the least crops producing states. Most producing states are - Andhra Pradesh and Uttar Pradesh and the least producing states Bihar and Punjab."
   ]
  },
  {
   "cell_type": "markdown",
   "metadata": {},
   "source": [
    "## Q4: Which are the states that produces Arhar and Maize?\n",
    "\n",
    "Now by looking at the data frame and graph, we get our answer. Andhra Pradesh, Bihar, Karnataka, Rajasthan, Uttar Pradesh, Gujrat and Maharastra are the states which produces Arhar and Maize.\n",
    "\n",
    "If we look at the graph properly we see states like Andhra Pradesh, Uttar Pradesh, and Karanataka are the states which produces both arhar and maize, where states like Bihar, Gujrat and Maharastra only produces one crop."
   ]
  },
  {
   "cell_type": "code",
   "execution_count": 55,
   "metadata": {},
   "outputs": [
    {
     "data": {
      "text/html": [
       "<div>\n",
       "<style scoped>\n",
       "    .dataframe tbody tr th:only-of-type {\n",
       "        vertical-align: middle;\n",
       "    }\n",
       "\n",
       "    .dataframe tbody tr th {\n",
       "        vertical-align: top;\n",
       "    }\n",
       "\n",
       "    .dataframe thead th {\n",
       "        text-align: right;\n",
       "    }\n",
       "</style>\n",
       "<table border=\"1\" class=\"dataframe\">\n",
       "  <thead>\n",
       "    <tr style=\"text-align: right;\">\n",
       "      <th></th>\n",
       "      <th>Crop</th>\n",
       "      <th>Production 2006-07</th>\n",
       "      <th>Production 2007-08</th>\n",
       "      <th>Production 2008-09</th>\n",
       "      <th>Production 2009-10</th>\n",
       "      <th>Production 2010-11</th>\n",
       "      <th>State</th>\n",
       "      <th>Total Production</th>\n",
       "    </tr>\n",
       "  </thead>\n",
       "  <tbody>\n",
       "    <tr>\n",
       "      <th>16</th>\n",
       "      <td>Arhar</td>\n",
       "      <td>97.0</td>\n",
       "      <td>128.9</td>\n",
       "      <td>94.9</td>\n",
       "      <td>103.3</td>\n",
       "      <td>119.9</td>\n",
       "      <td>Gujarat</td>\n",
       "      <td>544.0</td>\n",
       "    </tr>\n",
       "    <tr>\n",
       "      <th>4</th>\n",
       "      <td>Maize</td>\n",
       "      <td>198.8</td>\n",
       "      <td>249.6</td>\n",
       "      <td>259.8</td>\n",
       "      <td>220.1</td>\n",
       "      <td>286.0</td>\n",
       "      <td>Bihar</td>\n",
       "      <td>1214.3</td>\n",
       "    </tr>\n",
       "    <tr>\n",
       "      <th>5</th>\n",
       "      <td>Maize</td>\n",
       "      <td>198.8</td>\n",
       "      <td>249.6</td>\n",
       "      <td>259.8</td>\n",
       "      <td>220.1</td>\n",
       "      <td>286.0</td>\n",
       "      <td>Karnataka</td>\n",
       "      <td>1214.3</td>\n",
       "    </tr>\n",
       "    <tr>\n",
       "      <th>20</th>\n",
       "      <td>Groundnut</td>\n",
       "      <td>115.2</td>\n",
       "      <td>217.5</td>\n",
       "      <td>169.8</td>\n",
       "      <td>128.6</td>\n",
       "      <td>195.7</td>\n",
       "      <td>Andhra Pradesh</td>\n",
       "      <td>826.8</td>\n",
       "    </tr>\n",
       "    <tr>\n",
       "      <th>8</th>\n",
       "      <td>Maize</td>\n",
       "      <td>198.8</td>\n",
       "      <td>249.6</td>\n",
       "      <td>259.8</td>\n",
       "      <td>220.1</td>\n",
       "      <td>286.0</td>\n",
       "      <td>Andhra Pradesh</td>\n",
       "      <td>1214.3</td>\n",
       "    </tr>\n",
       "  </tbody>\n",
       "</table>\n",
       "</div>"
      ],
      "text/plain": [
       "         Crop  Production 2006-07  Production 2007-08  Production 2008-09  \\\n",
       "16      Arhar                97.0               128.9                94.9   \n",
       "4       Maize               198.8               249.6               259.8   \n",
       "5       Maize               198.8               249.6               259.8   \n",
       "20  Groundnut               115.2               217.5               169.8   \n",
       "8       Maize               198.8               249.6               259.8   \n",
       "\n",
       "    Production 2009-10  Production 2010-11           State  Total Production  \n",
       "16               103.3               119.9         Gujarat             544.0  \n",
       "4                220.1               286.0           Bihar            1214.3  \n",
       "5                220.1               286.0       Karnataka            1214.3  \n",
       "20               128.6               195.7  Andhra Pradesh             826.8  \n",
       "8                220.1               286.0  Andhra Pradesh            1214.3  "
      ]
     },
     "execution_count": 55,
     "metadata": {},
     "output_type": "execute_result"
    }
   ],
   "source": [
    "india_crop_production_df.sample(5)"
   ]
  },
  {
   "cell_type": "code",
   "execution_count": 56,
   "metadata": {},
   "outputs": [
    {
     "data": {
      "text/html": [
       "<div>\n",
       "<style scoped>\n",
       "    .dataframe tbody tr th:only-of-type {\n",
       "        vertical-align: middle;\n",
       "    }\n",
       "\n",
       "    .dataframe tbody tr th {\n",
       "        vertical-align: top;\n",
       "    }\n",
       "\n",
       "    .dataframe thead th {\n",
       "        text-align: right;\n",
       "    }\n",
       "</style>\n",
       "<table border=\"1\" class=\"dataframe\">\n",
       "  <thead>\n",
       "    <tr style=\"text-align: right;\">\n",
       "      <th></th>\n",
       "      <th>Crop</th>\n",
       "      <th>Production 2006-07</th>\n",
       "      <th>Production 2007-08</th>\n",
       "      <th>Production 2008-09</th>\n",
       "      <th>Production 2009-10</th>\n",
       "      <th>Production 2010-11</th>\n",
       "      <th>State</th>\n",
       "      <th>Total Production</th>\n",
       "    </tr>\n",
       "  </thead>\n",
       "  <tbody>\n",
       "    <tr>\n",
       "      <th>14</th>\n",
       "      <td>Arhar</td>\n",
       "      <td>97.0</td>\n",
       "      <td>128.9</td>\n",
       "      <td>94.9</td>\n",
       "      <td>103.3</td>\n",
       "      <td>119.9</td>\n",
       "      <td>Uttar Pradesh</td>\n",
       "      <td>544.0</td>\n",
       "    </tr>\n",
       "    <tr>\n",
       "      <th>15</th>\n",
       "      <td>Arhar</td>\n",
       "      <td>97.0</td>\n",
       "      <td>128.9</td>\n",
       "      <td>94.9</td>\n",
       "      <td>103.3</td>\n",
       "      <td>119.9</td>\n",
       "      <td>Karnataka</td>\n",
       "      <td>544.0</td>\n",
       "    </tr>\n",
       "    <tr>\n",
       "      <th>16</th>\n",
       "      <td>Arhar</td>\n",
       "      <td>97.0</td>\n",
       "      <td>128.9</td>\n",
       "      <td>94.9</td>\n",
       "      <td>103.3</td>\n",
       "      <td>119.9</td>\n",
       "      <td>Gujarat</td>\n",
       "      <td>544.0</td>\n",
       "    </tr>\n",
       "    <tr>\n",
       "      <th>17</th>\n",
       "      <td>Arhar</td>\n",
       "      <td>97.0</td>\n",
       "      <td>128.9</td>\n",
       "      <td>94.9</td>\n",
       "      <td>103.3</td>\n",
       "      <td>119.9</td>\n",
       "      <td>Andhra Pradesh</td>\n",
       "      <td>544.0</td>\n",
       "    </tr>\n",
       "    <tr>\n",
       "      <th>18</th>\n",
       "      <td>Arhar</td>\n",
       "      <td>97.0</td>\n",
       "      <td>128.9</td>\n",
       "      <td>94.9</td>\n",
       "      <td>103.3</td>\n",
       "      <td>119.9</td>\n",
       "      <td>Maharashtra</td>\n",
       "      <td>544.0</td>\n",
       "    </tr>\n",
       "  </tbody>\n",
       "</table>\n",
       "</div>"
      ],
      "text/plain": [
       "     Crop  Production 2006-07  Production 2007-08  Production 2008-09  \\\n",
       "14  Arhar                97.0               128.9                94.9   \n",
       "15  Arhar                97.0               128.9                94.9   \n",
       "16  Arhar                97.0               128.9                94.9   \n",
       "17  Arhar                97.0               128.9                94.9   \n",
       "18  Arhar                97.0               128.9                94.9   \n",
       "\n",
       "    Production 2009-10  Production 2010-11           State  Total Production  \n",
       "14               103.3               119.9   Uttar Pradesh             544.0  \n",
       "15               103.3               119.9       Karnataka             544.0  \n",
       "16               103.3               119.9         Gujarat             544.0  \n",
       "17               103.3               119.9  Andhra Pradesh             544.0  \n",
       "18               103.3               119.9     Maharashtra             544.0  "
      ]
     },
     "execution_count": 56,
     "metadata": {},
     "output_type": "execute_result"
    }
   ],
   "source": [
    "maize = india_crop_production_df[india_crop_production_df['Crop'] == \"Maize\"]\n",
    "\n",
    "arhar = india_crop_production_df[india_crop_production_df['Crop'] == \"Arhar\"]\n",
    "\n",
    "arhar"
   ]
  },
  {
   "cell_type": "code",
   "execution_count": 57,
   "metadata": {},
   "outputs": [
    {
     "data": {
      "text/html": [
       "<div>\n",
       "<style scoped>\n",
       "    .dataframe tbody tr th:only-of-type {\n",
       "        vertical-align: middle;\n",
       "    }\n",
       "\n",
       "    .dataframe tbody tr th {\n",
       "        vertical-align: top;\n",
       "    }\n",
       "\n",
       "    .dataframe thead th {\n",
       "        text-align: right;\n",
       "    }\n",
       "</style>\n",
       "<table border=\"1\" class=\"dataframe\">\n",
       "  <thead>\n",
       "    <tr style=\"text-align: right;\">\n",
       "      <th></th>\n",
       "      <th>Crop</th>\n",
       "      <th>Production 2006-07</th>\n",
       "      <th>Production 2007-08</th>\n",
       "      <th>Production 2008-09</th>\n",
       "      <th>Production 2009-10</th>\n",
       "      <th>Production 2010-11</th>\n",
       "      <th>State</th>\n",
       "      <th>Total Production</th>\n",
       "    </tr>\n",
       "  </thead>\n",
       "  <tbody>\n",
       "    <tr>\n",
       "      <th>4</th>\n",
       "      <td>Maize</td>\n",
       "      <td>198.8</td>\n",
       "      <td>249.6</td>\n",
       "      <td>259.8</td>\n",
       "      <td>220.1</td>\n",
       "      <td>286.0</td>\n",
       "      <td>Bihar</td>\n",
       "      <td>1214.3</td>\n",
       "    </tr>\n",
       "    <tr>\n",
       "      <th>5</th>\n",
       "      <td>Maize</td>\n",
       "      <td>198.8</td>\n",
       "      <td>249.6</td>\n",
       "      <td>259.8</td>\n",
       "      <td>220.1</td>\n",
       "      <td>286.0</td>\n",
       "      <td>Karnataka</td>\n",
       "      <td>1214.3</td>\n",
       "    </tr>\n",
       "    <tr>\n",
       "      <th>6</th>\n",
       "      <td>Maize</td>\n",
       "      <td>198.8</td>\n",
       "      <td>249.6</td>\n",
       "      <td>259.8</td>\n",
       "      <td>220.1</td>\n",
       "      <td>286.0</td>\n",
       "      <td>Rajasthan</td>\n",
       "      <td>1214.3</td>\n",
       "    </tr>\n",
       "    <tr>\n",
       "      <th>7</th>\n",
       "      <td>Maize</td>\n",
       "      <td>198.8</td>\n",
       "      <td>249.6</td>\n",
       "      <td>259.8</td>\n",
       "      <td>220.1</td>\n",
       "      <td>286.0</td>\n",
       "      <td>Uttar Pradesh</td>\n",
       "      <td>1214.3</td>\n",
       "    </tr>\n",
       "    <tr>\n",
       "      <th>8</th>\n",
       "      <td>Maize</td>\n",
       "      <td>198.8</td>\n",
       "      <td>249.6</td>\n",
       "      <td>259.8</td>\n",
       "      <td>220.1</td>\n",
       "      <td>286.0</td>\n",
       "      <td>Andhra Pradesh</td>\n",
       "      <td>1214.3</td>\n",
       "    </tr>\n",
       "  </tbody>\n",
       "</table>\n",
       "</div>"
      ],
      "text/plain": [
       "    Crop  Production 2006-07  Production 2007-08  Production 2008-09  \\\n",
       "4  Maize               198.8               249.6               259.8   \n",
       "5  Maize               198.8               249.6               259.8   \n",
       "6  Maize               198.8               249.6               259.8   \n",
       "7  Maize               198.8               249.6               259.8   \n",
       "8  Maize               198.8               249.6               259.8   \n",
       "\n",
       "   Production 2009-10  Production 2010-11           State  Total Production  \n",
       "4               220.1               286.0           Bihar            1214.3  \n",
       "5               220.1               286.0       Karnataka            1214.3  \n",
       "6               220.1               286.0       Rajasthan            1214.3  \n",
       "7               220.1               286.0   Uttar Pradesh            1214.3  \n",
       "8               220.1               286.0  Andhra Pradesh            1214.3  "
      ]
     },
     "execution_count": 57,
     "metadata": {},
     "output_type": "execute_result"
    }
   ],
   "source": [
    "maize"
   ]
  },
  {
   "cell_type": "code",
   "execution_count": 67,
   "metadata": {},
   "outputs": [
    {
     "data": {
      "image/png": "[encoded data removed]",
      "text/plain": [
       "<matplotlib.figure.Figure at 0x7f36a73cf9e8>"
      ]
     },
     "metadata": {
      "needs_background": "light"
     },
     "output_type": "display_data"
    }
   ],
   "source": [
    "plt.scatter(maize.State, maize.index);\n",
    "plt.scatter(arhar.State, arhar.index);\n",
    "\n",
    "plt.title(\"States Producing Arhar and Maize\" );\n",
    "plt.legend(['Maize', 'Arhar'], loc=7);"
   ]
  },
  {
   "cell_type": "markdown",
   "metadata": {},
   "source": [
    "So, with this we've completed answer questions about agriculture dataset. Now we'll be analysing our this results with the average India temperatures. above we've also created a dataframe `main_df` which was the combination of both the temperature and agriculture dataframe."
   ]
  },
  {
   "cell_type": "markdown",
   "metadata": {},
   "source": [
    "### Q5: How temp affects crops"
   ]
  },
  {
   "cell_type": "code",
   "execution_count": 59,
   "metadata": {},
   "outputs": [
    {
     "data": {
      "text/html": [
       "<div>\n",
       "<style scoped>\n",
       "    .dataframe tbody tr th:only-of-type {\n",
       "        vertical-align: middle;\n",
       "    }\n",
       "\n",
       "    .dataframe tbody tr th {\n",
       "        vertical-align: top;\n",
       "    }\n",
       "\n",
       "    .dataframe thead th {\n",
       "        text-align: right;\n",
       "    }\n",
       "</style>\n",
       "<table border=\"1\" class=\"dataframe\">\n",
       "  <thead>\n",
       "    <tr style=\"text-align: right;\">\n",
       "      <th></th>\n",
       "      <th>dt</th>\n",
       "      <th>AverageTemperature</th>\n",
       "      <th>State</th>\n",
       "    </tr>\n",
       "  </thead>\n",
       "  <tbody>\n",
       "    <tr>\n",
       "      <th>615143</th>\n",
       "      <td>2012-03-01</td>\n",
       "      <td>26.228</td>\n",
       "      <td>West Bengal</td>\n",
       "    </tr>\n",
       "    <tr>\n",
       "      <th>537157</th>\n",
       "      <td>1872-01-01</td>\n",
       "      <td>23.779</td>\n",
       "      <td>Tamil Nadu</td>\n",
       "    </tr>\n",
       "    <tr>\n",
       "      <th>225174</th>\n",
       "      <td>1966-07-01</td>\n",
       "      <td>25.378</td>\n",
       "      <td>Karnataka</td>\n",
       "    </tr>\n",
       "    <tr>\n",
       "      <th>113709</th>\n",
       "      <td>1818-06-01</td>\n",
       "      <td>33.772</td>\n",
       "      <td>Delhi</td>\n",
       "    </tr>\n",
       "  </tbody>\n",
       "</table>\n",
       "</div>"
      ],
      "text/plain": [
       "               dt  AverageTemperature        State\n",
       "615143 2012-03-01              26.228  West Bengal\n",
       "537157 1872-01-01              23.779   Tamil Nadu\n",
       "225174 1966-07-01              25.378    Karnataka\n",
       "113709 1818-06-01              33.772        Delhi"
      ]
     },
     "execution_count": 59,
     "metadata": {},
     "output_type": "execute_result"
    }
   ],
   "source": [
    "india_temp_df.sample(4)"
   ]
  },
  {
   "cell_type": "code",
   "execution_count": 60,
   "metadata": {},
   "outputs": [
    {
     "data": {
      "text/plain": [
       "(18291, 3)"
      ]
     },
     "execution_count": 60,
     "metadata": {},
     "output_type": "execute_result"
    }
   ],
   "source": [
    "sel_states_df = india_temp_df[(india_temp_df['State'] == \"Bihar\") | \n",
    "                           (india_temp_df['State'] == \"Karnataka\") |\n",
    "                           (india_temp_df['State'] == \"Andhra Pradesh\") |\n",
    "                           (india_temp_df['State'] == \"Gujarat\") |\n",
    "                           (india_temp_df['State'] == \"Maharashtra\") |\n",
    "                           (india_temp_df['State'] == \"Rajasthan\") |\n",
    "                           (india_temp_df['State'] == \"Uttar Pradesh\")\n",
    "                          ] \n",
    "\n",
    "sel_states_df.shape"
   ]
  },
  {
   "cell_type": "code",
   "execution_count": 92,
   "metadata": {},
   "outputs": [
    {
     "data": {
      "image/png": "[encoded data removed]",
      "text/plain": [
       "<matplotlib.figure.Figure at 0x7f3694b4eef0>"
      ]
     },
     "metadata": {
      "needs_background": "light"
     },
     "output_type": "display_data"
    }
   ],
   "source": [
    "plt.plot(sel_states_df.State, sel_states_df.AverageTemperature);\n",
    "plt.xticks(rotation=80);\n",
    "\n",
    "plt.title('India Average Temperature')\n",
    "plt.legend(['Average Temperature'])\n",
    "\n",
    "plt.xlabel('Different States of India')\n",
    "plt.ylabel('Temperature of Different States');"
   ]
  },
  {
   "cell_type": "code",
   "execution_count": 78,
   "metadata": {},
   "outputs": [
    {
     "data": {
      "text/html": [
       "<div>\n",
       "<style scoped>\n",
       "    .dataframe tbody tr th:only-of-type {\n",
       "        vertical-align: middle;\n",
       "    }\n",
       "\n",
       "    .dataframe tbody tr th {\n",
       "        vertical-align: top;\n",
       "    }\n",
       "\n",
       "    .dataframe thead th {\n",
       "        text-align: right;\n",
       "    }\n",
       "</style>\n",
       "<table border=\"1\" class=\"dataframe\">\n",
       "  <thead>\n",
       "    <tr style=\"text-align: right;\">\n",
       "      <th></th>\n",
       "      <th>dt</th>\n",
       "      <th>AverageTemperature</th>\n",
       "      <th>State</th>\n",
       "    </tr>\n",
       "  </thead>\n",
       "  <tbody>\n",
       "    <tr>\n",
       "      <th>27322</th>\n",
       "      <td>1796-01-01</td>\n",
       "      <td>22.796</td>\n",
       "      <td>Andhra Pradesh</td>\n",
       "    </tr>\n",
       "    <tr>\n",
       "      <th>27323</th>\n",
       "      <td>1796-02-01</td>\n",
       "      <td>25.020</td>\n",
       "      <td>Andhra Pradesh</td>\n",
       "    </tr>\n",
       "    <tr>\n",
       "      <th>27324</th>\n",
       "      <td>1796-03-01</td>\n",
       "      <td>27.480</td>\n",
       "      <td>Andhra Pradesh</td>\n",
       "    </tr>\n",
       "    <tr>\n",
       "      <th>27325</th>\n",
       "      <td>1796-04-01</td>\n",
       "      <td>30.901</td>\n",
       "      <td>Andhra Pradesh</td>\n",
       "    </tr>\n",
       "    <tr>\n",
       "      <th>27326</th>\n",
       "      <td>1796-05-01</td>\n",
       "      <td>32.519</td>\n",
       "      <td>Andhra Pradesh</td>\n",
       "    </tr>\n",
       "  </tbody>\n",
       "</table>\n",
       "</div>"
      ],
      "text/plain": [
       "              dt  AverageTemperature           State\n",
       "27322 1796-01-01              22.796  Andhra Pradesh\n",
       "27323 1796-02-01              25.020  Andhra Pradesh\n",
       "27324 1796-03-01              27.480  Andhra Pradesh\n",
       "27325 1796-04-01              30.901  Andhra Pradesh\n",
       "27326 1796-05-01              32.519  Andhra Pradesh"
      ]
     },
     "execution_count": 78,
     "metadata": {},
     "output_type": "execute_result"
    }
   ],
   "source": [
    "# Most and least crop producing states\n",
    "\n",
    "ml_states_df = india_temp_df[(india_temp_df['State'] == \"Bihar\") | \n",
    "                           (india_temp_df['State'] == \"Andhra Pradesh\") |\n",
    "                           (india_temp_df['State'] == \"Punjab\") |\n",
    "                           (india_temp_df['State'] == \"Uttar Pradesh\")\n",
    "                          ] \n",
    "\n",
    "ml_states_df.head()"
   ]
  },
  {
   "cell_type": "code",
   "execution_count": 93,
   "metadata": {},
   "outputs": [
    {
     "data": {
      "image/png": "[encoded data removed]",
      "text/plain": [
       "<matplotlib.figure.Figure at 0x7f368bb97ef0>"
      ]
     },
     "metadata": {
      "needs_background": "light"
     },
     "output_type": "display_data"
    }
   ],
   "source": [
    "plt.plot(ml_states_df.State, ml_states_df.AverageTemperature);\n",
    "\n",
    "plt.title('India Average Temperature')\n",
    "plt.legend(['Average Temperature'])\n",
    "\n",
    "plt.xlabel('Different States of India')\n",
    "plt.ylabel('Temperature of Different States');"
   ]
  },
  {
   "cell_type": "markdown",
   "metadata": {},
   "source": [
    "we saw a graph which show, states having cold temperature are not good at producing more crops, place having warm - intermediate temperatures grows good agriculture."
   ]
  },
  {
   "cell_type": "markdown",
   "metadata": {},
   "source": [
    "## Inferences and Conclusions\n",
    "\n",
    "At the end of this analysis we get an and conclusion about how the global warming is affecting on agriculture.\n",
    "\n",
    "- So we started with finding the list of different states and crops.\n",
    "\n",
    "\n",
    "- At very first we analysed the temperature dataset, and we found that coldest and the hotest states of India, which are Sikkim, Jammu and Kashmir and Hotest states are Delhi and Rajasthan.\n",
    "\n",
    "\n",
    "- We analysed agriculture data, and found the most and the least grown crops, which was - Maize and Arhar. \n",
    "\n",
    "\n",
    "- After that we looked the states which produced the most and the least crops, and then looked at the states which produces Arhar and Maize -- which was Uttar Pradesh, and Andhra pradesh and Least- Bihar and Punjab\n",
    "\n",
    "\n",
    "- We also used the temparature data to analyse how data tempearature affects the crops.  \n",
    "\n",
    "\n",
    "- we saw a graph which show, states having cold temperature are not good at producing more crops, place having warm - intermediate temperatures grows good agriculture.\n",
    "\n"
   ]
  },
  {
   "cell_type": "markdown",
   "metadata": {},
   "source": [
    "## References and Futher readings\n",
    "\n",
    "These are some of the links, which I found useful.\n",
    "\n",
    "* [We are prepared for the Next Global Crisis](https://www.sachinshrmaa.com/health/we-are-not-ready-for-the-next-global-crisis/) post on my blog.\n",
    "\n",
    "* [Climate Change: Earth Surface Temperature Data](https://www.kaggle.com/berkeleyearth/climate-change-earth-surface-temperature-data) on kaggle\n",
    "\n",
    "* [Pandas Guide](https://pandas.pydata.org/docs/getting_started/intro_tutorials/03_subset_data.html) Pandas documentation\n",
    "\n"
   ]
  },
  {
   "cell_type": "markdown",
   "metadata": {},
   "source": [
    "Lets save and upload our work at jovian"
   ]
  },
  {
   "cell_type": "code",
   "execution_count": 95,
   "metadata": {},
   "outputs": [
    {
     "data": {
      "application/javascript": [
       "window.require && require([\"base/js/namespace\"],function(Jupyter){Jupyter.notebook.save_checkpoint()})"
      ],
      "text/plain": [
       "<IPython.core.display.Javascript object>"
      ]
     },
     "metadata": {},
     "output_type": "display_data"
    },
    {
     "name": "stdout",
     "output_type": "stream",
     "text": [
      "[jovian] Attempting to save notebook..\u001b[0m\n",
      "[jovian] Updating notebook \"sachinshrmaa/global-warming-affects-on-agriculture-india\" on https://jovian.ml/\u001b[0m\n",
      "[jovian] Uploading notebook..\u001b[0m\n",
      "[jovian] Capturing environment..\u001b[0m\n"
     ]
    },
    {
     "name": "stderr",
     "output_type": "stream",
     "text": [
      "\u001b[31m[jovian] Error: Failed to read Anaconda environment using command: \"conda env export -n base --no-builds\"\u001b[0m\n"
     ]
    },
    {
     "name": "stdout",
     "output_type": "stream",
     "text": [
      "[jovian] Committed successfully! https://jovian.ml/sachinshrmaa/global-warming-affects-on-agriculture-india\u001b[0m\n"
     ]
    },
    {
     "data": {
      "text/plain": [
       "'https://jovian.ml/sachinshrmaa/global-warming-affects-on-agriculture-india'"
      ]
     },
     "execution_count": 95,
     "metadata": {},
     "output_type": "execute_result"
    }
   ],
   "source": [
    "jovian.commit()"
   ]
  },
  {
   "cell_type": "code",
   "execution_count": null,
   "metadata": {},
   "outputs": [],
   "source": []
  }
 ],
 "metadata": {
  "kernelspec": {
   "display_name": "Python 3",
   "language": "python",
   "name": "python3"
  },
  "language_info": {
   "codemirror_mode": {
    "name": "ipython",
    "version": 3
   },
   "file_extension": ".py",
   "mimetype": "text/x-python",
   "name": "python",
   "nbconvert_exporter": "python",
   "pygments_lexer": "ipython3",
   "version": "3.6.9"
  }
 },
 "nbformat": 4,
 "nbformat_minor": 4
}
